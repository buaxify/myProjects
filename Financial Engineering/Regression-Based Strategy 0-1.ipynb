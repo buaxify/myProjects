{
 "cells": [
  {
   "cell_type": "code",
   "execution_count": 1,
   "metadata": {},
   "outputs": [],
   "source": [
    "import pandas as pd\n",
    "import numpy as np\n",
    "import matplotlib.pyplot as plt"
   ]
  },
  {
   "cell_type": "code",
   "execution_count": 2,
   "metadata": {},
   "outputs": [
    {
     "data": {
      "text/html": [
       "<div>\n",
       "<style scoped>\n",
       "    .dataframe tbody tr th:only-of-type {\n",
       "        vertical-align: middle;\n",
       "    }\n",
       "\n",
       "    .dataframe tbody tr th {\n",
       "        vertical-align: top;\n",
       "    }\n",
       "\n",
       "    .dataframe thead th {\n",
       "        text-align: right;\n",
       "    }\n",
       "</style>\n",
       "<table border=\"1\" class=\"dataframe\">\n",
       "  <thead>\n",
       "    <tr style=\"text-align: right;\">\n",
       "      <th></th>\n",
       "      <th>CSCO</th>\n",
       "      <th>UAL</th>\n",
       "      <th>TROW</th>\n",
       "      <th>ISRG</th>\n",
       "      <th>PRGO</th>\n",
       "      <th>TPR</th>\n",
       "      <th>DVN</th>\n",
       "      <th>MRO</th>\n",
       "      <th>BA</th>\n",
       "      <th>VRTX</th>\n",
       "      <th>...</th>\n",
       "      <th>M</th>\n",
       "      <th>CRM</th>\n",
       "      <th>PGR</th>\n",
       "      <th>WAT</th>\n",
       "      <th>BWA</th>\n",
       "      <th>LRCX</th>\n",
       "      <th>NWL</th>\n",
       "      <th>UAA</th>\n",
       "      <th>BLK</th>\n",
       "      <th>PPL</th>\n",
       "    </tr>\n",
       "    <tr>\n",
       "      <th>Date</th>\n",
       "      <th></th>\n",
       "      <th></th>\n",
       "      <th></th>\n",
       "      <th></th>\n",
       "      <th></th>\n",
       "      <th></th>\n",
       "      <th></th>\n",
       "      <th></th>\n",
       "      <th></th>\n",
       "      <th></th>\n",
       "      <th></th>\n",
       "      <th></th>\n",
       "      <th></th>\n",
       "      <th></th>\n",
       "      <th></th>\n",
       "      <th></th>\n",
       "      <th></th>\n",
       "      <th></th>\n",
       "      <th></th>\n",
       "      <th></th>\n",
       "      <th></th>\n",
       "    </tr>\n",
       "  </thead>\n",
       "  <tbody>\n",
       "    <tr>\n",
       "      <td>2010-01-04</td>\n",
       "      <td>24.690001</td>\n",
       "      <td>12.80</td>\n",
       "      <td>54.400002</td>\n",
       "      <td>102.923332</td>\n",
       "      <td>40.349998</td>\n",
       "      <td>36.310001</td>\n",
       "      <td>76.570000</td>\n",
       "      <td>19.153616</td>\n",
       "      <td>56.180000</td>\n",
       "      <td>44.240002</td>\n",
       "      <td>...</td>\n",
       "      <td>17.059999</td>\n",
       "      <td>18.705000</td>\n",
       "      <td>18.030001</td>\n",
       "      <td>61.630001</td>\n",
       "      <td>16.889999</td>\n",
       "      <td>39.880001</td>\n",
       "      <td>15.20</td>\n",
       "      <td>3.51000</td>\n",
       "      <td>238.580002</td>\n",
       "      <td>30.242558</td>\n",
       "    </tr>\n",
       "    <tr>\n",
       "      <td>2010-01-05</td>\n",
       "      <td>24.580000</td>\n",
       "      <td>13.91</td>\n",
       "      <td>55.009998</td>\n",
       "      <td>102.459999</td>\n",
       "      <td>38.790001</td>\n",
       "      <td>36.750000</td>\n",
       "      <td>76.650002</td>\n",
       "      <td>19.171511</td>\n",
       "      <td>58.020000</td>\n",
       "      <td>42.779999</td>\n",
       "      <td>...</td>\n",
       "      <td>16.860001</td>\n",
       "      <td>18.625000</td>\n",
       "      <td>17.969999</td>\n",
       "      <td>60.790001</td>\n",
       "      <td>17.695000</td>\n",
       "      <td>39.610001</td>\n",
       "      <td>15.11</td>\n",
       "      <td>3.61500</td>\n",
       "      <td>239.610001</td>\n",
       "      <td>29.851370</td>\n",
       "    </tr>\n",
       "    <tr>\n",
       "      <td>2010-01-06</td>\n",
       "      <td>24.420000</td>\n",
       "      <td>13.27</td>\n",
       "      <td>54.150002</td>\n",
       "      <td>103.946663</td>\n",
       "      <td>38.299999</td>\n",
       "      <td>37.470001</td>\n",
       "      <td>76.419998</td>\n",
       "      <td>19.595024</td>\n",
       "      <td>59.779999</td>\n",
       "      <td>42.029999</td>\n",
       "      <td>...</td>\n",
       "      <td>17.100000</td>\n",
       "      <td>18.592501</td>\n",
       "      <td>17.790001</td>\n",
       "      <td>60.900002</td>\n",
       "      <td>18.344999</td>\n",
       "      <td>39.430000</td>\n",
       "      <td>15.38</td>\n",
       "      <td>3.69500</td>\n",
       "      <td>234.669998</td>\n",
       "      <td>29.916569</td>\n",
       "    </tr>\n",
       "    <tr>\n",
       "      <td>2010-01-07</td>\n",
       "      <td>24.530001</td>\n",
       "      <td>13.55</td>\n",
       "      <td>54.110001</td>\n",
       "      <td>103.556664</td>\n",
       "      <td>37.990002</td>\n",
       "      <td>37.490002</td>\n",
       "      <td>75.970001</td>\n",
       "      <td>19.475725</td>\n",
       "      <td>62.200001</td>\n",
       "      <td>41.500000</td>\n",
       "      <td>...</td>\n",
       "      <td>17.490000</td>\n",
       "      <td>18.510000</td>\n",
       "      <td>17.549999</td>\n",
       "      <td>61.160000</td>\n",
       "      <td>18.594999</td>\n",
       "      <td>39.360001</td>\n",
       "      <td>15.82</td>\n",
       "      <td>3.65125</td>\n",
       "      <td>237.250000</td>\n",
       "      <td>29.627834</td>\n",
       "    </tr>\n",
       "    <tr>\n",
       "      <td>2010-01-08</td>\n",
       "      <td>24.660000</td>\n",
       "      <td>13.33</td>\n",
       "      <td>53.900002</td>\n",
       "      <td>102.986664</td>\n",
       "      <td>37.779999</td>\n",
       "      <td>37.270000</td>\n",
       "      <td>76.120003</td>\n",
       "      <td>19.505550</td>\n",
       "      <td>61.599998</td>\n",
       "      <td>40.669998</td>\n",
       "      <td>...</td>\n",
       "      <td>16.920000</td>\n",
       "      <td>18.537500</td>\n",
       "      <td>17.709999</td>\n",
       "      <td>61.209999</td>\n",
       "      <td>18.254999</td>\n",
       "      <td>40.349998</td>\n",
       "      <td>15.77</td>\n",
       "      <td>3.64375</td>\n",
       "      <td>238.919998</td>\n",
       "      <td>29.534695</td>\n",
       "    </tr>\n",
       "  </tbody>\n",
       "</table>\n",
       "<p>5 rows × 480 columns</p>\n",
       "</div>"
      ],
      "text/plain": [
       "                 CSCO    UAL       TROW        ISRG       PRGO        TPR  \\\n",
       "Date                                                                        \n",
       "2010-01-04  24.690001  12.80  54.400002  102.923332  40.349998  36.310001   \n",
       "2010-01-05  24.580000  13.91  55.009998  102.459999  38.790001  36.750000   \n",
       "2010-01-06  24.420000  13.27  54.150002  103.946663  38.299999  37.470001   \n",
       "2010-01-07  24.530001  13.55  54.110001  103.556664  37.990002  37.490002   \n",
       "2010-01-08  24.660000  13.33  53.900002  102.986664  37.779999  37.270000   \n",
       "\n",
       "                  DVN        MRO         BA       VRTX  ...          M  \\\n",
       "Date                                                    ...              \n",
       "2010-01-04  76.570000  19.153616  56.180000  44.240002  ...  17.059999   \n",
       "2010-01-05  76.650002  19.171511  58.020000  42.779999  ...  16.860001   \n",
       "2010-01-06  76.419998  19.595024  59.779999  42.029999  ...  17.100000   \n",
       "2010-01-07  75.970001  19.475725  62.200001  41.500000  ...  17.490000   \n",
       "2010-01-08  76.120003  19.505550  61.599998  40.669998  ...  16.920000   \n",
       "\n",
       "                  CRM        PGR        WAT        BWA       LRCX    NWL  \\\n",
       "Date                                                                       \n",
       "2010-01-04  18.705000  18.030001  61.630001  16.889999  39.880001  15.20   \n",
       "2010-01-05  18.625000  17.969999  60.790001  17.695000  39.610001  15.11   \n",
       "2010-01-06  18.592501  17.790001  60.900002  18.344999  39.430000  15.38   \n",
       "2010-01-07  18.510000  17.549999  61.160000  18.594999  39.360001  15.82   \n",
       "2010-01-08  18.537500  17.709999  61.209999  18.254999  40.349998  15.77   \n",
       "\n",
       "                UAA         BLK        PPL  \n",
       "Date                                        \n",
       "2010-01-04  3.51000  238.580002  30.242558  \n",
       "2010-01-05  3.61500  239.610001  29.851370  \n",
       "2010-01-06  3.69500  234.669998  29.916569  \n",
       "2010-01-07  3.65125  237.250000  29.627834  \n",
       "2010-01-08  3.64375  238.919998  29.534695  \n",
       "\n",
       "[5 rows x 480 columns]"
      ]
     },
     "execution_count": 2,
     "metadata": {},
     "output_type": "execute_result"
    }
   ],
   "source": [
    "df = pd.read_csv(r\"sp500_closefull.csv\", index_col=0, parse_dates=True)\n",
    "df.head()"
   ]
  },
  {
   "cell_type": "code",
   "execution_count": 3,
   "metadata": {},
   "outputs": [
    {
     "data": {
      "text/plain": [
       "(2263, 480)"
      ]
     },
     "execution_count": 3,
     "metadata": {},
     "output_type": "execute_result"
    }
   ],
   "source": [
    "df.dropna(axis=0, how='all', inplace=True) # drop rows where all values are missing\n",
    "df.shape # see how many points we have (rows, cols)"
   ]
  },
  {
   "cell_type": "code",
   "execution_count": 4,
   "metadata": {},
   "outputs": [
    {
     "data": {
      "text/plain": [
       "(2263, 429)"
      ]
     },
     "execution_count": 4,
     "metadata": {},
     "output_type": "execute_result"
    }
   ],
   "source": [
    "df.dropna(axis=1, how='any', inplace=True) # drop any cols with missing values\n",
    "df.shape # see how many points we have (rows, cols)"
   ]
  },
  {
   "cell_type": "code",
   "execution_count": 5,
   "metadata": {},
   "outputs": [
    {
     "data": {
      "text/plain": [
       "0"
      ]
     },
     "execution_count": 5,
     "metadata": {},
     "output_type": "execute_result"
    }
   ],
   "source": [
    "df.isna().sum().sum() # check there are no more missing values"
   ]
  },
  {
   "cell_type": "code",
   "execution_count": 6,
   "metadata": {},
   "outputs": [
    {
     "data": {
      "text/html": [
       "<div>\n",
       "<style scoped>\n",
       "    .dataframe tbody tr th:only-of-type {\n",
       "        vertical-align: middle;\n",
       "    }\n",
       "\n",
       "    .dataframe tbody tr th {\n",
       "        vertical-align: top;\n",
       "    }\n",
       "\n",
       "    .dataframe thead th {\n",
       "        text-align: right;\n",
       "    }\n",
       "</style>\n",
       "<table border=\"1\" class=\"dataframe\">\n",
       "  <thead>\n",
       "    <tr style=\"text-align: right;\">\n",
       "      <th></th>\n",
       "      <th>CSCO</th>\n",
       "      <th>UAL</th>\n",
       "      <th>TROW</th>\n",
       "      <th>ISRG</th>\n",
       "      <th>PRGO</th>\n",
       "      <th>TPR</th>\n",
       "      <th>DVN</th>\n",
       "      <th>MRO</th>\n",
       "      <th>BA</th>\n",
       "      <th>VRTX</th>\n",
       "      <th>...</th>\n",
       "      <th>M</th>\n",
       "      <th>CRM</th>\n",
       "      <th>PGR</th>\n",
       "      <th>WAT</th>\n",
       "      <th>BWA</th>\n",
       "      <th>LRCX</th>\n",
       "      <th>NWL</th>\n",
       "      <th>UAA</th>\n",
       "      <th>BLK</th>\n",
       "      <th>PPL</th>\n",
       "    </tr>\n",
       "    <tr>\n",
       "      <th>Date</th>\n",
       "      <th></th>\n",
       "      <th></th>\n",
       "      <th></th>\n",
       "      <th></th>\n",
       "      <th></th>\n",
       "      <th></th>\n",
       "      <th></th>\n",
       "      <th></th>\n",
       "      <th></th>\n",
       "      <th></th>\n",
       "      <th></th>\n",
       "      <th></th>\n",
       "      <th></th>\n",
       "      <th></th>\n",
       "      <th></th>\n",
       "      <th></th>\n",
       "      <th></th>\n",
       "      <th></th>\n",
       "      <th></th>\n",
       "      <th></th>\n",
       "      <th></th>\n",
       "    </tr>\n",
       "  </thead>\n",
       "  <tbody>\n",
       "    <tr>\n",
       "      <td>2010-01-04</td>\n",
       "      <td>NaN</td>\n",
       "      <td>NaN</td>\n",
       "      <td>NaN</td>\n",
       "      <td>NaN</td>\n",
       "      <td>NaN</td>\n",
       "      <td>NaN</td>\n",
       "      <td>NaN</td>\n",
       "      <td>NaN</td>\n",
       "      <td>NaN</td>\n",
       "      <td>NaN</td>\n",
       "      <td>...</td>\n",
       "      <td>NaN</td>\n",
       "      <td>NaN</td>\n",
       "      <td>NaN</td>\n",
       "      <td>NaN</td>\n",
       "      <td>NaN</td>\n",
       "      <td>NaN</td>\n",
       "      <td>NaN</td>\n",
       "      <td>NaN</td>\n",
       "      <td>NaN</td>\n",
       "      <td>NaN</td>\n",
       "    </tr>\n",
       "    <tr>\n",
       "      <td>2010-01-05</td>\n",
       "      <td>-0.004465</td>\n",
       "      <td>0.083163</td>\n",
       "      <td>0.011151</td>\n",
       "      <td>-0.004512</td>\n",
       "      <td>-0.039429</td>\n",
       "      <td>0.012045</td>\n",
       "      <td>0.001044</td>\n",
       "      <td>0.000934</td>\n",
       "      <td>0.032227</td>\n",
       "      <td>-0.033559</td>\n",
       "      <td>...</td>\n",
       "      <td>-0.011793</td>\n",
       "      <td>-0.004286</td>\n",
       "      <td>-0.003333</td>\n",
       "      <td>-0.013723</td>\n",
       "      <td>0.046560</td>\n",
       "      <td>-0.006793</td>\n",
       "      <td>-0.005939</td>\n",
       "      <td>0.029476</td>\n",
       "      <td>0.004308</td>\n",
       "      <td>-0.013019</td>\n",
       "    </tr>\n",
       "    <tr>\n",
       "      <td>2010-01-06</td>\n",
       "      <td>-0.006531</td>\n",
       "      <td>-0.047102</td>\n",
       "      <td>-0.015757</td>\n",
       "      <td>0.014405</td>\n",
       "      <td>-0.012713</td>\n",
       "      <td>0.019402</td>\n",
       "      <td>-0.003005</td>\n",
       "      <td>0.021850</td>\n",
       "      <td>0.029883</td>\n",
       "      <td>-0.017687</td>\n",
       "      <td>...</td>\n",
       "      <td>0.014134</td>\n",
       "      <td>-0.001746</td>\n",
       "      <td>-0.010067</td>\n",
       "      <td>0.001808</td>\n",
       "      <td>0.036075</td>\n",
       "      <td>-0.004555</td>\n",
       "      <td>0.017711</td>\n",
       "      <td>0.021889</td>\n",
       "      <td>-0.020832</td>\n",
       "      <td>0.002182</td>\n",
       "    </tr>\n",
       "    <tr>\n",
       "      <td>2010-01-07</td>\n",
       "      <td>0.004494</td>\n",
       "      <td>0.020881</td>\n",
       "      <td>-0.000739</td>\n",
       "      <td>-0.003759</td>\n",
       "      <td>-0.008127</td>\n",
       "      <td>0.000534</td>\n",
       "      <td>-0.005906</td>\n",
       "      <td>-0.006107</td>\n",
       "      <td>0.039684</td>\n",
       "      <td>-0.012690</td>\n",
       "      <td>...</td>\n",
       "      <td>0.022551</td>\n",
       "      <td>-0.004447</td>\n",
       "      <td>-0.013583</td>\n",
       "      <td>0.004260</td>\n",
       "      <td>0.013536</td>\n",
       "      <td>-0.001777</td>\n",
       "      <td>0.028207</td>\n",
       "      <td>-0.011911</td>\n",
       "      <td>0.010934</td>\n",
       "      <td>-0.009698</td>\n",
       "    </tr>\n",
       "    <tr>\n",
       "      <td>2010-01-08</td>\n",
       "      <td>0.005286</td>\n",
       "      <td>-0.016369</td>\n",
       "      <td>-0.003889</td>\n",
       "      <td>-0.005519</td>\n",
       "      <td>-0.005543</td>\n",
       "      <td>-0.005886</td>\n",
       "      <td>0.001973</td>\n",
       "      <td>0.001530</td>\n",
       "      <td>-0.009693</td>\n",
       "      <td>-0.020203</td>\n",
       "      <td>...</td>\n",
       "      <td>-0.033133</td>\n",
       "      <td>0.001485</td>\n",
       "      <td>0.009075</td>\n",
       "      <td>0.000817</td>\n",
       "      <td>-0.018454</td>\n",
       "      <td>0.024841</td>\n",
       "      <td>-0.003166</td>\n",
       "      <td>-0.002056</td>\n",
       "      <td>0.007014</td>\n",
       "      <td>-0.003149</td>\n",
       "    </tr>\n",
       "  </tbody>\n",
       "</table>\n",
       "<p>5 rows × 429 columns</p>\n",
       "</div>"
      ],
      "text/plain": [
       "                CSCO       UAL      TROW      ISRG      PRGO       TPR  \\\n",
       "Date                                                                     \n",
       "2010-01-04       NaN       NaN       NaN       NaN       NaN       NaN   \n",
       "2010-01-05 -0.004465  0.083163  0.011151 -0.004512 -0.039429  0.012045   \n",
       "2010-01-06 -0.006531 -0.047102 -0.015757  0.014405 -0.012713  0.019402   \n",
       "2010-01-07  0.004494  0.020881 -0.000739 -0.003759 -0.008127  0.000534   \n",
       "2010-01-08  0.005286 -0.016369 -0.003889 -0.005519 -0.005543 -0.005886   \n",
       "\n",
       "                 DVN       MRO        BA      VRTX  ...         M       CRM  \\\n",
       "Date                                                ...                       \n",
       "2010-01-04       NaN       NaN       NaN       NaN  ...       NaN       NaN   \n",
       "2010-01-05  0.001044  0.000934  0.032227 -0.033559  ... -0.011793 -0.004286   \n",
       "2010-01-06 -0.003005  0.021850  0.029883 -0.017687  ...  0.014134 -0.001746   \n",
       "2010-01-07 -0.005906 -0.006107  0.039684 -0.012690  ...  0.022551 -0.004447   \n",
       "2010-01-08  0.001973  0.001530 -0.009693 -0.020203  ... -0.033133  0.001485   \n",
       "\n",
       "                 PGR       WAT       BWA      LRCX       NWL       UAA  \\\n",
       "Date                                                                     \n",
       "2010-01-04       NaN       NaN       NaN       NaN       NaN       NaN   \n",
       "2010-01-05 -0.003333 -0.013723  0.046560 -0.006793 -0.005939  0.029476   \n",
       "2010-01-06 -0.010067  0.001808  0.036075 -0.004555  0.017711  0.021889   \n",
       "2010-01-07 -0.013583  0.004260  0.013536 -0.001777  0.028207 -0.011911   \n",
       "2010-01-08  0.009075  0.000817 -0.018454  0.024841 -0.003166 -0.002056   \n",
       "\n",
       "                 BLK       PPL  \n",
       "Date                            \n",
       "2010-01-04       NaN       NaN  \n",
       "2010-01-05  0.004308 -0.013019  \n",
       "2010-01-06 -0.020832  0.002182  \n",
       "2010-01-07  0.010934 -0.009698  \n",
       "2010-01-08  0.007014 -0.003149  \n",
       "\n",
       "[5 rows x 429 columns]"
      ]
     },
     "execution_count": 6,
     "metadata": {},
     "output_type": "execute_result"
    }
   ],
   "source": [
    "df_returns = pd.DataFrame() # create new dataframe containing only returns (empty df)\n",
    "\n",
    "for name in df.columns:\n",
    "    df_returns[name] = np.log(df[name]).diff() # assign log returns to df returns under same column name\n",
    "    \n",
    "df_returns.head()"
   ]
  },
  {
   "cell_type": "code",
   "execution_count": 7,
   "metadata": {},
   "outputs": [
    {
     "data": {
      "text/plain": [
       "Date\n",
       "2018-12-21   -0.026778\n",
       "2018-12-24    0.049290\n",
       "2018-12-26    0.007648\n",
       "2018-12-27   -0.001291\n",
       "2018-12-28         NaN\n",
       "Name: SPY, dtype: float64"
      ]
     },
     "execution_count": 7,
     "metadata": {},
     "output_type": "execute_result"
    }
   ],
   "source": [
    "df_returns['SPY'] = df_returns['SPY'].shift(-1)\n",
    "df_returns['SPY'].tail() # now last value is missing"
   ]
  },
  {
   "cell_type": "code",
   "execution_count": 8,
   "metadata": {},
   "outputs": [
    {
     "data": {
      "text/plain": [
       "Index(['CSCO', 'UAL', 'TROW', 'ISRG', 'PRGO', 'TPR', 'DVN', 'MRO', 'BA',\n",
       "       'VRTX',\n",
       "       ...\n",
       "       'M', 'CRM', 'PGR', 'WAT', 'BWA', 'LRCX', 'NWL', 'UAA', 'BLK', 'PPL'],\n",
       "      dtype='object', length=429)"
      ]
     },
     "execution_count": 8,
     "metadata": {},
     "output_type": "execute_result"
    }
   ],
   "source": [
    "# split data into train and test\n",
    "# since the first row and last row have missing values --> skipped\n",
    "\n",
    "Ntest = 1000\n",
    "train = df_returns.iloc[1:-Ntest]\n",
    "test = df_returns.iloc[-Ntest:-1]\n",
    "\n",
    "df_returns.columns"
   ]
  },
  {
   "cell_type": "code",
   "execution_count": 9,
   "metadata": {},
   "outputs": [
    {
     "data": {
      "text/plain": [
       "['AAPL', 'MSFT', 'AMZN', 'JNJ', 'V', 'PG', 'JPM']"
      ]
     },
     "execution_count": 9,
     "metadata": {},
     "output_type": "execute_result"
    }
   ],
   "source": [
    "x_cols = ['AAPL', 'MSFT', 'AMZN', 'JNJ', 'V', 'PG', 'JPM']\n",
    "x_cols"
   ]
  },
  {
   "cell_type": "code",
   "execution_count": 12,
   "metadata": {},
   "outputs": [],
   "source": [
    "Xtrain = train[x_cols]\n",
    "Ytrain = train['SPY']\n",
    "Xtest = test[x_cols]\n",
    "Ytest = test['SPY']"
   ]
  },
  {
   "cell_type": "code",
   "execution_count": 13,
   "metadata": {},
   "outputs": [
    {
     "data": {
      "text/html": [
       "<div>\n",
       "<style scoped>\n",
       "    .dataframe tbody tr th:only-of-type {\n",
       "        vertical-align: middle;\n",
       "    }\n",
       "\n",
       "    .dataframe tbody tr th {\n",
       "        vertical-align: top;\n",
       "    }\n",
       "\n",
       "    .dataframe thead th {\n",
       "        text-align: right;\n",
       "    }\n",
       "</style>\n",
       "<table border=\"1\" class=\"dataframe\">\n",
       "  <thead>\n",
       "    <tr style=\"text-align: right;\">\n",
       "      <th></th>\n",
       "      <th>AAPL</th>\n",
       "      <th>MSFT</th>\n",
       "      <th>AMZN</th>\n",
       "      <th>JNJ</th>\n",
       "      <th>V</th>\n",
       "      <th>PG</th>\n",
       "      <th>JPM</th>\n",
       "    </tr>\n",
       "    <tr>\n",
       "      <th>Date</th>\n",
       "      <th></th>\n",
       "      <th></th>\n",
       "      <th></th>\n",
       "      <th></th>\n",
       "      <th></th>\n",
       "      <th></th>\n",
       "      <th></th>\n",
       "    </tr>\n",
       "  </thead>\n",
       "  <tbody>\n",
       "    <tr>\n",
       "      <td>2010-01-05</td>\n",
       "      <td>0.001727</td>\n",
       "      <td>0.000323</td>\n",
       "      <td>0.005883</td>\n",
       "      <td>-0.011663</td>\n",
       "      <td>-0.011525</td>\n",
       "      <td>0.000327</td>\n",
       "      <td>0.019185</td>\n",
       "    </tr>\n",
       "    <tr>\n",
       "      <td>2010-01-06</td>\n",
       "      <td>-0.016034</td>\n",
       "      <td>-0.006156</td>\n",
       "      <td>-0.018282</td>\n",
       "      <td>0.008101</td>\n",
       "      <td>-0.013519</td>\n",
       "      <td>-0.004755</td>\n",
       "      <td>0.005479</td>\n",
       "    </tr>\n",
       "    <tr>\n",
       "      <td>2010-01-07</td>\n",
       "      <td>-0.001850</td>\n",
       "      <td>-0.010454</td>\n",
       "      <td>-0.017160</td>\n",
       "      <td>-0.007163</td>\n",
       "      <td>0.009264</td>\n",
       "      <td>-0.005438</td>\n",
       "      <td>0.019615</td>\n",
       "    </tr>\n",
       "    <tr>\n",
       "      <td>2010-01-08</td>\n",
       "      <td>0.006626</td>\n",
       "      <td>0.006873</td>\n",
       "      <td>0.026717</td>\n",
       "      <td>0.003432</td>\n",
       "      <td>0.002762</td>\n",
       "      <td>-0.001323</td>\n",
       "      <td>-0.002459</td>\n",
       "    </tr>\n",
       "    <tr>\n",
       "      <td>2010-01-11</td>\n",
       "      <td>-0.008861</td>\n",
       "      <td>-0.012802</td>\n",
       "      <td>-0.024335</td>\n",
       "      <td>0.000156</td>\n",
       "      <td>-0.002878</td>\n",
       "      <td>-0.003979</td>\n",
       "      <td>-0.003363</td>\n",
       "    </tr>\n",
       "  </tbody>\n",
       "</table>\n",
       "</div>"
      ],
      "text/plain": [
       "                AAPL      MSFT      AMZN       JNJ         V        PG  \\\n",
       "Date                                                                     \n",
       "2010-01-05  0.001727  0.000323  0.005883 -0.011663 -0.011525  0.000327   \n",
       "2010-01-06 -0.016034 -0.006156 -0.018282  0.008101 -0.013519 -0.004755   \n",
       "2010-01-07 -0.001850 -0.010454 -0.017160 -0.007163  0.009264 -0.005438   \n",
       "2010-01-08  0.006626  0.006873  0.026717  0.003432  0.002762 -0.001323   \n",
       "2010-01-11 -0.008861 -0.012802 -0.024335  0.000156 -0.002878 -0.003979   \n",
       "\n",
       "                 JPM  \n",
       "Date                  \n",
       "2010-01-05  0.019185  \n",
       "2010-01-06  0.005479  \n",
       "2010-01-07  0.019615  \n",
       "2010-01-08 -0.002459  \n",
       "2010-01-11 -0.003363  "
      ]
     },
     "execution_count": 13,
     "metadata": {},
     "output_type": "execute_result"
    }
   ],
   "source": [
    "Xtrain.head()"
   ]
  },
  {
   "cell_type": "code",
   "execution_count": 14,
   "metadata": {},
   "outputs": [
    {
     "data": {
      "text/plain": [
       "Date\n",
       "2010-01-05    0.000704\n",
       "2010-01-06    0.004212\n",
       "2010-01-07    0.003322\n",
       "2010-01-08    0.001396\n",
       "2010-01-11   -0.009370\n",
       "Name: SPY, dtype: float64"
      ]
     },
     "execution_count": 14,
     "metadata": {},
     "output_type": "execute_result"
    }
   ],
   "source": [
    "Ytrain.head()"
   ]
  },
  {
   "cell_type": "code",
   "execution_count": 16,
   "metadata": {},
   "outputs": [
    {
     "data": {
      "text/plain": [
       "(0.008271754178782342, -0.011369618185063102)"
      ]
     },
     "execution_count": 16,
     "metadata": {},
     "output_type": "execute_result"
    }
   ],
   "source": [
    "from sklearn.linear_model import LinearRegression\n",
    "model = LinearRegression()\n",
    "model.fit(Xtrain, Ytrain) # to fit model on train set\n",
    "model.score(Xtrain, Ytrain), model.score(Xtest, Ytest) # to evaluate model get to predicting the target\n",
    "\n",
    "# low score, perfect score would be 1, naive would give zero, slightly above for train, even worse for test set\n",
    "# we can still see how model performs"
   ]
  },
  {
   "cell_type": "code",
   "execution_count": 17,
   "metadata": {},
   "outputs": [
    {
     "data": {
      "text/plain": [
       "(0.528526148969889, 0.5285285285285285)"
      ]
     },
     "execution_count": 17,
     "metadata": {},
     "output_type": "execute_result"
    }
   ],
   "source": [
    "# Direction (if positive, we want to buy. if negative, we want to sell)\n",
    "Ptrain = model.predict(Xtrain)\n",
    "Ptest = model.predict(Xtest)\n",
    "\n",
    "# sign function convert the array into +1 if arg is positive or -1 if negative\n",
    "# --> check if equals --> array of booleans --> mean to get classification accuracy\n",
    "\n",
    "np.mean(np.sign(Ptrain) == np.sign(Ytrain)), np.mean(np.sign(Ptest) == np.sign(Ytest))\n",
    "\n",
    "# we perform slightly higher than chance,\n",
    "# since only 2 possible outcomes --> expected result of making random preciction = 50%"
   ]
  },
  {
   "cell_type": "code",
   "execution_count": 18,
   "metadata": {},
   "outputs": [
    {
     "data": {
      "text/plain": [
       "({-1.0, 1.0}, {-1.0, 1.0})"
      ]
     },
     "execution_count": 18,
     "metadata": {},
     "output_type": "execute_result"
    }
   ],
   "source": [
    "# check how many unique values we have (only -1s and 1s? or maybe also 0s?)\n",
    "set(np.sign(Ptrain)), set(np.sign(Ptest))"
   ]
  },
  {
   "cell_type": "code",
   "execution_count": 21,
   "metadata": {},
   "outputs": [],
   "source": [
    "df_returns['Position'] = 0\n",
    "df_returns.loc[1:-Ntest, 'Position'] = (Ptrain > 0)\n",
    "df_returns.loc[-Ntest:-1, 'Position'] = (Ptest > 0)\n",
    "\n",
    "df_returns['AlgoReturn'] = df_returns['Position'] * df_returns['SPY']"
   ]
  },
  {
   "cell_type": "code",
   "execution_count": 22,
   "metadata": {},
   "outputs": [
    {
     "data": {
      "text/plain": [
       "0.5477174926058384"
      ]
     },
     "execution_count": 22,
     "metadata": {},
     "output_type": "execute_result"
    }
   ],
   "source": [
    "# Total algo log return train\n",
    "df_returns.iloc[1:-Ntest]['AlgoReturn'].sum()"
   ]
  },
  {
   "cell_type": "code",
   "execution_count": 23,
   "metadata": {},
   "outputs": [
    {
     "data": {
      "text/plain": [
       "0.3037759916492"
      ]
     },
     "execution_count": 23,
     "metadata": {},
     "output_type": "execute_result"
    }
   ],
   "source": [
    "# Total algo log return test\n",
    "df_returns.iloc[-Ntest:-1]['AlgoReturn'].sum()"
   ]
  },
  {
   "cell_type": "code",
   "execution_count": 24,
   "metadata": {},
   "outputs": [
    {
     "data": {
      "text/plain": [
       "0.5863972019814705"
      ]
     },
     "execution_count": 24,
     "metadata": {},
     "output_type": "execute_result"
    }
   ],
   "source": [
    "# Total return buy-and-hold train\n",
    "Ytrain.sum() # better than ML approach"
   ]
  },
  {
   "cell_type": "code",
   "execution_count": 25,
   "metadata": {
    "scrolled": true
   },
   "outputs": [
    {
     "data": {
      "text/plain": [
       "0.19307543946998518"
      ]
     },
     "execution_count": 25,
     "metadata": {},
     "output_type": "execute_result"
    }
   ],
   "source": [
    "# Total return buy-and-hold train\n",
    "Ytest.sum() # worse than ML approach"
   ]
  },
  {
   "cell_type": "markdown",
   "metadata": {},
   "source": [
    "###  Classification-based trading Strategy"
   ]
  },
  {
   "cell_type": "code",
   "execution_count": 26,
   "metadata": {},
   "outputs": [
    {
     "name": "stderr",
     "output_type": "stream",
     "text": [
      "C:\\Users\\AButa\\Anaconda3\\lib\\site-packages\\sklearn\\linear_model\\logistic.py:432: FutureWarning: Default solver will be changed to 'lbfgs' in 0.22. Specify a solver to silence this warning.\n",
      "  FutureWarning)\n"
     ]
    },
    {
     "data": {
      "text/plain": [
       "(0.5586370839936609, 0.5285285285285285)"
      ]
     },
     "execution_count": 26,
     "metadata": {},
     "output_type": "execute_result"
    }
   ],
   "source": [
    "from sklearn.linear_model import LogisticRegression\n",
    "model = LogisticRegression(C=10) # 'c' controls the regularization penalty, way to prevent weight to become too large\n",
    "Ctrain = (Ytrain > 0)\n",
    "Ctest = (Ytest > 0)\n",
    "model.fit(Xtrain, Ctrain)\n",
    "model.score(Xtrain, Ctrain) , model.score(Xtest, Ctest)\n",
    "\n",
    "# model does slightly better than chance for train/test sets"
   ]
  },
  {
   "cell_type": "code",
   "execution_count": 27,
   "metadata": {},
   "outputs": [
    {
     "data": {
      "text/plain": [
       "({False, True}, {False, True})"
      ]
     },
     "execution_count": 27,
     "metadata": {},
     "output_type": "execute_result"
    }
   ],
   "source": [
    "Ptrain = model.predict(Xtrain)\n",
    "Ptest = model.predict(Xtest)\n",
    "set(Ptrain), set(Ptest)"
   ]
  },
  {
   "cell_type": "code",
   "execution_count": 28,
   "metadata": {},
   "outputs": [],
   "source": [
    "df_returns.loc[1:-Ntest, 'Position'] = Ptrain\n",
    "df_returns.loc[-Ntest:-1, 'Position'] = Ptest\n",
    "df_returns['AlgoReturn'] = df_returns['Position'] * df_returns['SPY']"
   ]
  },
  {
   "cell_type": "code",
   "execution_count": 29,
   "metadata": {},
   "outputs": [
    {
     "data": {
      "text/plain": [
       "0.5905718759742236"
      ]
     },
     "execution_count": 29,
     "metadata": {},
     "output_type": "execute_result"
    }
   ],
   "source": [
    "# Total algo log return train\n",
    "df_returns.iloc[1:-Ntest]['AlgoReturn'].sum()"
   ]
  },
  {
   "cell_type": "code",
   "execution_count": 30,
   "metadata": {},
   "outputs": [
    {
     "data": {
      "text/plain": [
       "0.19680747922142316"
      ]
     },
     "execution_count": 30,
     "metadata": {},
     "output_type": "execute_result"
    }
   ],
   "source": [
    "# Total algo log return test\n",
    "df_returns.iloc[-Ntest:-1]['AlgoReturn'].sum()"
   ]
  },
  {
   "cell_type": "code",
   "execution_count": 31,
   "metadata": {},
   "outputs": [
    {
     "data": {
      "text/plain": [
       "(0.5863972019814705, 0.19307543946998518)"
      ]
     },
     "execution_count": 31,
     "metadata": {},
     "output_type": "execute_result"
    }
   ],
   "source": [
    "# Total return buy-and-hold train\n",
    "Ytrain.sum(), Ytest.sum()\n",
    "\n",
    "# classification slightly better performance than buy-and-hold"
   ]
  },
  {
   "cell_type": "markdown",
   "metadata": {},
   "source": [
    "### Random Forest Classifier"
   ]
  },
  {
   "cell_type": "code",
   "execution_count": 32,
   "metadata": {},
   "outputs": [
    {
     "name": "stderr",
     "output_type": "stream",
     "text": [
      "C:\\Users\\AButa\\Anaconda3\\lib\\site-packages\\sklearn\\ensemble\\forest.py:245: FutureWarning: The default value of n_estimators will change from 10 in version 0.20 to 100 in 0.22.\n",
      "  \"10 in version 0.20 to 100 in 0.22.\", FutureWarning)\n"
     ]
    },
    {
     "data": {
      "text/plain": [
       "(0.9841521394611727, 0.5325325325325325)"
      ]
     },
     "execution_count": 32,
     "metadata": {},
     "output_type": "execute_result"
    }
   ],
   "source": [
    "from sklearn.ensemble import RandomForestClassifier\n",
    "model = RandomForestClassifier(random_state=0)\n",
    "model.fit(Xtrain, Ctrain)\n",
    "model.score(Xtrain, Ctrain), model.score(Xtest, Ctest)\n",
    "\n",
    "# almost perfect score for Xtrain, but just above 50% for test\n",
    "# might fit to data noise"
   ]
  },
  {
   "cell_type": "code",
   "execution_count": 33,
   "metadata": {},
   "outputs": [],
   "source": [
    "Ptrain = model.predict(Xtrain)\n",
    "Ptest = model.predict(Xtest)"
   ]
  },
  {
   "cell_type": "code",
   "execution_count": 35,
   "metadata": {},
   "outputs": [],
   "source": [
    "df_returns.loc[1:-Ntest, 'Position'] = Ptrain\n",
    "df_returns.loc[-Ntest:-1, 'Position'] = Ptest\n",
    "df_returns['AlgoReturn'] = df_returns['Position'] * df_returns['SPY']"
   ]
  },
  {
   "cell_type": "code",
   "execution_count": 36,
   "metadata": {},
   "outputs": [
    {
     "data": {
      "text/plain": [
       "4.532398670601058"
      ]
     },
     "execution_count": 36,
     "metadata": {},
     "output_type": "execute_result"
    }
   ],
   "source": [
    "# Total algo log return train\n",
    "df_returns.iloc[1:-Ntest]['AlgoReturn'].sum() # does extremely well"
   ]
  },
  {
   "cell_type": "code",
   "execution_count": 37,
   "metadata": {},
   "outputs": [
    {
     "data": {
      "text/plain": [
       "0.22677749209571108"
      ]
     },
     "execution_count": 37,
     "metadata": {},
     "output_type": "execute_result"
    }
   ],
   "source": [
    "# Total algo log return test\n",
    "df_returns.iloc[-Ntest:-1]['AlgoReturn'].sum()"
   ]
  },
  {
   "cell_type": "code",
   "execution_count": 38,
   "metadata": {},
   "outputs": [
    {
     "data": {
      "text/plain": [
       "(0.5863972019814705, 0.19307543946998518)"
      ]
     },
     "execution_count": 38,
     "metadata": {},
     "output_type": "execute_result"
    }
   ],
   "source": [
    "# Total return buy-and-hold train\n",
    "Ytrain.sum(), Ytest.sum()\n",
    "\n",
    "# random Forest outperforms buy and hold strategy"
   ]
  },
  {
   "cell_type": "code",
   "execution_count": null,
   "metadata": {},
   "outputs": [],
   "source": []
  }
 ],
 "metadata": {
  "kernelspec": {
   "display_name": "Python 3",
   "language": "python",
   "name": "python3"
  },
  "language_info": {
   "codemirror_mode": {
    "name": "ipython",
    "version": 3
   },
   "file_extension": ".py",
   "mimetype": "text/x-python",
   "name": "python",
   "nbconvert_exporter": "python",
   "pygments_lexer": "ipython3",
   "version": "3.7.4"
  }
 },
 "nbformat": 4,
 "nbformat_minor": 2
}
