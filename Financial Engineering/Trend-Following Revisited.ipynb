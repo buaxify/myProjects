{
 "cells": [
  {
   "cell_type": "code",
   "execution_count": 1,
   "metadata": {},
   "outputs": [],
   "source": [
    "import pandas as pd\n",
    "import numpy as np\n",
    "import matplotlib.pyplot as plt"
   ]
  },
  {
   "cell_type": "code",
   "execution_count": 2,
   "metadata": {},
   "outputs": [
    {
     "data": {
      "text/html": [
       "<div>\n",
       "<style scoped>\n",
       "    .dataframe tbody tr th:only-of-type {\n",
       "        vertical-align: middle;\n",
       "    }\n",
       "\n",
       "    .dataframe tbody tr th {\n",
       "        vertical-align: top;\n",
       "    }\n",
       "\n",
       "    .dataframe thead th {\n",
       "        text-align: right;\n",
       "    }\n",
       "</style>\n",
       "<table border=\"1\" class=\"dataframe\">\n",
       "  <thead>\n",
       "    <tr style=\"text-align: right;\">\n",
       "      <th></th>\n",
       "      <th>Open</th>\n",
       "      <th>High</th>\n",
       "      <th>Low</th>\n",
       "      <th>Close</th>\n",
       "      <th>Adj Close</th>\n",
       "      <th>Volume</th>\n",
       "    </tr>\n",
       "    <tr>\n",
       "      <th>Date</th>\n",
       "      <th></th>\n",
       "      <th></th>\n",
       "      <th></th>\n",
       "      <th></th>\n",
       "      <th></th>\n",
       "      <th></th>\n",
       "    </tr>\n",
       "  </thead>\n",
       "  <tbody>\n",
       "    <tr>\n",
       "      <td>2010-01-04</td>\n",
       "      <td>112.370003</td>\n",
       "      <td>113.389999</td>\n",
       "      <td>111.510002</td>\n",
       "      <td>113.330002</td>\n",
       "      <td>92.246048</td>\n",
       "      <td>118944600</td>\n",
       "    </tr>\n",
       "    <tr>\n",
       "      <td>2010-01-05</td>\n",
       "      <td>113.260002</td>\n",
       "      <td>113.680000</td>\n",
       "      <td>112.849998</td>\n",
       "      <td>113.629997</td>\n",
       "      <td>92.490204</td>\n",
       "      <td>111579900</td>\n",
       "    </tr>\n",
       "    <tr>\n",
       "      <td>2010-01-06</td>\n",
       "      <td>113.519997</td>\n",
       "      <td>113.989998</td>\n",
       "      <td>113.430000</td>\n",
       "      <td>113.709999</td>\n",
       "      <td>92.555328</td>\n",
       "      <td>116074400</td>\n",
       "    </tr>\n",
       "    <tr>\n",
       "      <td>2010-01-07</td>\n",
       "      <td>113.500000</td>\n",
       "      <td>114.330002</td>\n",
       "      <td>113.180000</td>\n",
       "      <td>114.190002</td>\n",
       "      <td>92.946060</td>\n",
       "      <td>131091100</td>\n",
       "    </tr>\n",
       "    <tr>\n",
       "      <td>2010-01-08</td>\n",
       "      <td>113.889999</td>\n",
       "      <td>114.620003</td>\n",
       "      <td>113.660004</td>\n",
       "      <td>114.570000</td>\n",
       "      <td>93.255348</td>\n",
       "      <td>126402800</td>\n",
       "    </tr>\n",
       "  </tbody>\n",
       "</table>\n",
       "</div>"
      ],
      "text/plain": [
       "                  Open        High         Low       Close  Adj Close  \\\n",
       "Date                                                                    \n",
       "2010-01-04  112.370003  113.389999  111.510002  113.330002  92.246048   \n",
       "2010-01-05  113.260002  113.680000  112.849998  113.629997  92.490204   \n",
       "2010-01-06  113.519997  113.989998  113.430000  113.709999  92.555328   \n",
       "2010-01-07  113.500000  114.330002  113.180000  114.190002  92.946060   \n",
       "2010-01-08  113.889999  114.620003  113.660004  114.570000  93.255348   \n",
       "\n",
       "               Volume  \n",
       "Date                   \n",
       "2010-01-04  118944600  \n",
       "2010-01-05  111579900  \n",
       "2010-01-06  116074400  \n",
       "2010-01-07  131091100  \n",
       "2010-01-08  126402800  "
      ]
     },
     "execution_count": 2,
     "metadata": {},
     "output_type": "execute_result"
    }
   ],
   "source": [
    "df = pd.read_csv(r\"SPY.csv\", index_col=0, parse_dates=True)\n",
    "df.head()"
   ]
  },
  {
   "cell_type": "code",
   "execution_count": 3,
   "metadata": {},
   "outputs": [],
   "source": [
    "# make features\n",
    "\n",
    "df['SlowSMA'] = df['Close'].rolling(33).mean()\n",
    "df['FastSMA'] = df['Close'].rolling(16).mean()\n",
    "feats = ['FastSMA', 'SlowSMA']"
   ]
  },
  {
   "cell_type": "code",
   "execution_count": 4,
   "metadata": {},
   "outputs": [],
   "source": [
    "df['LogReturn'] = np.log(df['Close']).diff()"
   ]
  },
  {
   "cell_type": "code",
   "execution_count": 5,
   "metadata": {},
   "outputs": [],
   "source": [
    "# split into train and test\n",
    "\n",
    "Ntest = 1000\n",
    "train_data = df.iloc[:-Ntest].copy()\n",
    "test_data = df.iloc[-Ntest:].copy()"
   ]
  },
  {
   "cell_type": "code",
   "execution_count": 6,
   "metadata": {},
   "outputs": [],
   "source": [
    "# Env Class\n",
    "class Env:\n",
    "    def __init__(self, df): # Constructor taking df\n",
    "        self.df = df # set df to an instant variable\n",
    "        self.n = len(df)\n",
    "        self.current_idx = 0\n",
    "        self.action_space = [0, 1, 2] # BUY, SELL, HOLD\n",
    "        self.invested = 0\n",
    "\n",
    "        self.states = self.df[feats].to_numpy()\n",
    "        self.rewards = self.df['LogReturn'].to_numpy()\n",
    "        self.total_buy_and_hold = 0\n",
    "\n",
    "    def reset(self):\n",
    "        self.current_idx = 0\n",
    "        self.invested = 0\n",
    "        self.total_buy_and_hold = 0\n",
    "        return self.states[self.current_idx] # return initial state\n",
    "\n",
    "    def step(self, action):\n",
    "        # need to return (next_state, reward, done)\n",
    "        self.current_idx += 1\n",
    "        if self.current_idx >= self.n:\n",
    "            raise Exception(\"Exception already done\")\n",
    "\n",
    "        if action == 0: # BUY\n",
    "            self.invested = 1\n",
    "        elif action == 1: # SELL\n",
    "            self.invested = 0\n",
    "\n",
    "        # compute reward\n",
    "        if self.invested:\n",
    "            reward = self.rewards[self.current_idx]\n",
    "        else:\n",
    "            reward = 0\n",
    "\n",
    "        # state transtition\n",
    "        next_state = self.states[self.current_idx]\n",
    "        \n",
    "        # baseline\n",
    "        self.total_buy_and_hold += self.rewards[self.current_idx]\n",
    "\n",
    "        # done flag\n",
    "        done = (self.current_idx == self.n - 1)\n",
    "        return next_state, reward, done"
   ]
  },
  {
   "cell_type": "code",
   "execution_count": 7,
   "metadata": {},
   "outputs": [],
   "source": [
    "class Agent:\n",
    "    def __init__(self):\n",
    "        self.is_invested = False\n",
    "        \n",
    "    def act(self, state):\n",
    "        assert(len(state) == 2)\n",
    "        # (fast, slow)\n",
    "        \n",
    "        if state[0] > state[1] and not self.is_invested: # fast > slow\n",
    "            self.is_invested = True\n",
    "            return 0 # Buy\n",
    "    \n",
    "        if state[0] < state[1] and self.is_invested:\n",
    "            self.is_invested = False\n",
    "            return 1 # Sell\n",
    "    \n",
    "        return 2"
   ]
  },
  {
   "cell_type": "code",
   "execution_count": 8,
   "metadata": {},
   "outputs": [],
   "source": [
    "def play_one_episode(agent, env):\n",
    "    state = env.reset()\n",
    "    done = False\n",
    "    total_reward = 0\n",
    "    agent.is_invested = False\n",
    "    \n",
    "    while not done:\n",
    "        action = agent.act(state)\n",
    "        next_state, reward, done = env.step(action)\n",
    "        total_reward += reward\n",
    "        state = next_state\n",
    "        \n",
    "    return total_reward"
   ]
  },
  {
   "cell_type": "code",
   "execution_count": 9,
   "metadata": {},
   "outputs": [],
   "source": [
    "train_env = Env(train_data)\n",
    "test_env = Env(test_data)"
   ]
  },
  {
   "cell_type": "code",
   "execution_count": 10,
   "metadata": {},
   "outputs": [],
   "source": [
    "agent = Agent()"
   ]
  },
  {
   "cell_type": "code",
   "execution_count": 11,
   "metadata": {},
   "outputs": [],
   "source": [
    "train_reward = play_one_episode(agent, train_env)"
   ]
  },
  {
   "cell_type": "code",
   "execution_count": 12,
   "metadata": {},
   "outputs": [],
   "source": [
    "test_reward = play_one_episode(agent, test_env)"
   ]
  },
  {
   "cell_type": "code",
   "execution_count": 13,
   "metadata": {},
   "outputs": [
    {
     "data": {
      "text/plain": [
       "(0.43459304796456966, 0.5970866514889392)"
      ]
     },
     "execution_count": 13,
     "metadata": {},
     "output_type": "execute_result"
    }
   ],
   "source": [
    "train_reward, train_env.total_buy_and_hold"
   ]
  },
  {
   "cell_type": "code",
   "execution_count": 14,
   "metadata": {},
   "outputs": [
    {
     "data": {
      "text/plain": [
       "(0.08889132894199214, 0.19307543946998518)"
      ]
     },
     "execution_count": 14,
     "metadata": {},
     "output_type": "execute_result"
    }
   ],
   "source": [
    "test_reward, test_env.total_buy_and_hold"
   ]
  }
 ],
 "metadata": {
  "kernelspec": {
   "display_name": "Python 3",
   "language": "python",
   "name": "python3"
  },
  "language_info": {
   "codemirror_mode": {
    "name": "ipython",
    "version": 3
   },
   "file_extension": ".py",
   "mimetype": "text/x-python",
   "name": "python",
   "nbconvert_exporter": "python",
   "pygments_lexer": "ipython3",
   "version": "3.7.4"
  }
 },
 "nbformat": 4,
 "nbformat_minor": 2
}
