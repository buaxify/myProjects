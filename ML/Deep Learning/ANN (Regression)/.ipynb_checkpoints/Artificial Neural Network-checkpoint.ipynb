{
 "cells": [
  {
   "cell_type": "markdown",
   "metadata": {},
   "source": [
    "# Artificial Neural Network"
   ]
  },
  {
   "cell_type": "markdown",
   "metadata": {},
   "source": [
    "### Importing the libraries"
   ]
  },
  {
   "cell_type": "code",
   "execution_count": 1,
   "metadata": {},
   "outputs": [],
   "source": [
    "import numpy as np\n",
    "import pandas as pd\n",
    "import tensorflow as tf"
   ]
  },
  {
   "cell_type": "code",
   "execution_count": 2,
   "metadata": {},
   "outputs": [
    {
     "data": {
      "text/plain": [
       "'2.1.0'"
      ]
     },
     "execution_count": 2,
     "metadata": {},
     "output_type": "execute_result"
    }
   ],
   "source": [
    "tf.__version__"
   ]
  },
  {
   "cell_type": "markdown",
   "metadata": {},
   "source": [
    "## Part 1 - Data Preprocessing"
   ]
  },
  {
   "cell_type": "markdown",
   "metadata": {},
   "source": [
    "### Importing the dataset"
   ]
  },
  {
   "cell_type": "markdown",
   "metadata": {},
   "source": [
    "Features consist of hourly average ambient variables\n",
    "- Temperature (T) in the range 1.81°C and 37.11°C,\n",
    "- Ambient Pressure (AP) in the range 992.89-1033.30 milibar,\n",
    "- Relative Humidity (RH) in the range 25.56% to 100.16%\n",
    "- Exhaust Vacuum (V) in teh range 25.36-81.56 cm Hg\n",
    "- Net hourly electrical energy output (EP) 420.26-495.76 MW --> dependent variable"
   ]
  },
  {
   "cell_type": "code",
   "execution_count": 3,
   "metadata": {},
   "outputs": [
    {
     "data": {
      "text/html": [
       "<div>\n",
       "<style scoped>\n",
       "    .dataframe tbody tr th:only-of-type {\n",
       "        vertical-align: middle;\n",
       "    }\n",
       "\n",
       "    .dataframe tbody tr th {\n",
       "        vertical-align: top;\n",
       "    }\n",
       "\n",
       "    .dataframe thead th {\n",
       "        text-align: right;\n",
       "    }\n",
       "</style>\n",
       "<table border=\"1\" class=\"dataframe\">\n",
       "  <thead>\n",
       "    <tr style=\"text-align: right;\">\n",
       "      <th></th>\n",
       "      <th>AT</th>\n",
       "      <th>V</th>\n",
       "      <th>AP</th>\n",
       "      <th>RH</th>\n",
       "      <th>PE</th>\n",
       "    </tr>\n",
       "  </thead>\n",
       "  <tbody>\n",
       "    <tr>\n",
       "      <th>0</th>\n",
       "      <td>14.96</td>\n",
       "      <td>41.76</td>\n",
       "      <td>1024.07</td>\n",
       "      <td>73.17</td>\n",
       "      <td>463.26</td>\n",
       "    </tr>\n",
       "    <tr>\n",
       "      <th>1</th>\n",
       "      <td>25.18</td>\n",
       "      <td>62.96</td>\n",
       "      <td>1020.04</td>\n",
       "      <td>59.08</td>\n",
       "      <td>444.37</td>\n",
       "    </tr>\n",
       "    <tr>\n",
       "      <th>2</th>\n",
       "      <td>5.11</td>\n",
       "      <td>39.40</td>\n",
       "      <td>1012.16</td>\n",
       "      <td>92.14</td>\n",
       "      <td>488.56</td>\n",
       "    </tr>\n",
       "    <tr>\n",
       "      <th>3</th>\n",
       "      <td>20.86</td>\n",
       "      <td>57.32</td>\n",
       "      <td>1010.24</td>\n",
       "      <td>76.64</td>\n",
       "      <td>446.48</td>\n",
       "    </tr>\n",
       "    <tr>\n",
       "      <th>4</th>\n",
       "      <td>10.82</td>\n",
       "      <td>37.50</td>\n",
       "      <td>1009.23</td>\n",
       "      <td>96.62</td>\n",
       "      <td>473.90</td>\n",
       "    </tr>\n",
       "  </tbody>\n",
       "</table>\n",
       "</div>"
      ],
      "text/plain": [
       "      AT      V       AP     RH      PE\n",
       "0  14.96  41.76  1024.07  73.17  463.26\n",
       "1  25.18  62.96  1020.04  59.08  444.37\n",
       "2   5.11  39.40  1012.16  92.14  488.56\n",
       "3  20.86  57.32  1010.24  76.64  446.48\n",
       "4  10.82  37.50  1009.23  96.62  473.90"
      ]
     },
     "metadata": {},
     "output_type": "display_data"
    },
    {
     "data": {
      "text/html": [
       "<div>\n",
       "<style scoped>\n",
       "    .dataframe tbody tr th:only-of-type {\n",
       "        vertical-align: middle;\n",
       "    }\n",
       "\n",
       "    .dataframe tbody tr th {\n",
       "        vertical-align: top;\n",
       "    }\n",
       "\n",
       "    .dataframe thead th {\n",
       "        text-align: right;\n",
       "    }\n",
       "</style>\n",
       "<table border=\"1\" class=\"dataframe\">\n",
       "  <thead>\n",
       "    <tr style=\"text-align: right;\">\n",
       "      <th></th>\n",
       "      <th>AT</th>\n",
       "      <th>V</th>\n",
       "      <th>AP</th>\n",
       "      <th>RH</th>\n",
       "    </tr>\n",
       "  </thead>\n",
       "  <tbody>\n",
       "    <tr>\n",
       "      <th>0</th>\n",
       "      <td>14.96</td>\n",
       "      <td>41.76</td>\n",
       "      <td>1024.07</td>\n",
       "      <td>73.17</td>\n",
       "    </tr>\n",
       "    <tr>\n",
       "      <th>1</th>\n",
       "      <td>25.18</td>\n",
       "      <td>62.96</td>\n",
       "      <td>1020.04</td>\n",
       "      <td>59.08</td>\n",
       "    </tr>\n",
       "    <tr>\n",
       "      <th>2</th>\n",
       "      <td>5.11</td>\n",
       "      <td>39.40</td>\n",
       "      <td>1012.16</td>\n",
       "      <td>92.14</td>\n",
       "    </tr>\n",
       "    <tr>\n",
       "      <th>3</th>\n",
       "      <td>20.86</td>\n",
       "      <td>57.32</td>\n",
       "      <td>1010.24</td>\n",
       "      <td>76.64</td>\n",
       "    </tr>\n",
       "    <tr>\n",
       "      <th>4</th>\n",
       "      <td>10.82</td>\n",
       "      <td>37.50</td>\n",
       "      <td>1009.23</td>\n",
       "      <td>96.62</td>\n",
       "    </tr>\n",
       "  </tbody>\n",
       "</table>\n",
       "</div>"
      ],
      "text/plain": [
       "      AT      V       AP     RH\n",
       "0  14.96  41.76  1024.07  73.17\n",
       "1  25.18  62.96  1020.04  59.08\n",
       "2   5.11  39.40  1012.16  92.14\n",
       "3  20.86  57.32  1010.24  76.64\n",
       "4  10.82  37.50  1009.23  96.62"
      ]
     },
     "metadata": {},
     "output_type": "display_data"
    },
    {
     "data": {
      "text/plain": [
       "0    463.26\n",
       "1    444.37\n",
       "2    488.56\n",
       "3    446.48\n",
       "4    473.90\n",
       "Name: PE, dtype: float64"
      ]
     },
     "metadata": {},
     "output_type": "display_data"
    }
   ],
   "source": [
    "dataset = pd.read_excel('Folds5x2_pp.xlsx')\n",
    "display(dataset.head())\n",
    "\n",
    "X_df = dataset.iloc[:, :-1] # every rows, every columns except last\n",
    "display(X_df.head())\n",
    "\n",
    "y_df = dataset.iloc[:, -1] # every rows, only last column\n",
    "display(y_df.head())\n",
    "\n",
    "X = dataset.iloc[:, :-1].values\n",
    "y = dataset.iloc[:, -1].values"
   ]
  },
  {
   "cell_type": "markdown",
   "metadata": {},
   "source": [
    "### Splitting the dataset into the Training set and Test set"
   ]
  },
  {
   "cell_type": "markdown",
   "metadata": {},
   "source": [
    "Training Dataset: The sample of data used to fit the model.\n",
    "The actual dataset that we use to train the model (weights and biases in the case of Neural Network). \n",
    "The model sees and learns from this data.\n",
    "\n",
    "Test Dataset: The sample of data used to provide an unbiased evaluation of a final model fit on the training dataset.\n",
    "provides the gold standard used to evaluate the model.\n",
    "only used once a model is completely trained\n",
    "contains carefully sampled data that spans the various classes that the model would face, when used in the real world.\n",
    "\n",
    "Split dataset into training set (X_train, y_train) and test set (X_test, y_test), \n",
    "test_size = proportion of the dataset to include in the test split\n"
   ]
  },
  {
   "cell_type": "code",
   "execution_count": 4,
   "metadata": {},
   "outputs": [],
   "source": [
    "from sklearn.model_selection import train_test_split\n",
    "\n",
    "X_train, X_test, y_train, y_test = train_test_split(X, y, test_size = 0.2) # 20% in test set"
   ]
  },
  {
   "cell_type": "markdown",
   "metadata": {},
   "source": [
    "## Part 2 - Building the ANN"
   ]
  },
  {
   "cell_type": "markdown",
   "metadata": {},
   "source": [
    "### Initializing the ANN"
   ]
  },
  {
   "cell_type": "code",
   "execution_count": 5,
   "metadata": {},
   "outputs": [],
   "source": [
    "ann = tf.keras.models.Sequential()"
   ]
  },
  {
   "cell_type": "markdown",
   "metadata": {},
   "source": [
    "### Adding the input layer and the first hidden layer"
   ]
  },
  {
   "cell_type": "code",
   "execution_count": 6,
   "metadata": {},
   "outputs": [],
   "source": [
    "# units=number of neurons(Dataset columns(for input layer)) in first hidden layer\n",
    "# how many neurons to choose --> experiment --> 6 good number to start\n",
    "# activation funtion --> used to get the output of node -->to determine the output of neural network like yes or no. \n",
    "# ...It maps the resulting values in between 0 to 1 or -1 to 1 etc.\n",
    "# The rectified linear activation function is a piecewise linear function that will output the input directly if is positive, \n",
    "# ...otherwise, it will output zero. 'relu'\n",
    "ann.add(tf.keras.layers.Dense(units = 6, activation = 'relu'))"
   ]
  },
  {
   "cell_type": "markdown",
   "metadata": {},
   "source": [
    "### Adding the second hidden layer"
   ]
  },
  {
   "cell_type": "code",
   "execution_count": 7,
   "metadata": {},
   "outputs": [],
   "source": [
    "# units=number of neurons(Dataset columns(for input layer)) in first hidden layer\n",
    "# how many neurons to choose --> experiment --> 6 good number to start\n",
    "# activation funtion --> used to get the output of node -->to determine the output of neural network like yes or no. \n",
    "# ...It maps the resulting values in between 0 to 1 or -1 to 1 etc.\n",
    "# The rectified linear activation function is a piecewise linear function that will output the input directly if is positive, \n",
    "# ...otherwise, it will output zero. 'relu'\n",
    "ann.add(tf.keras.layers.Dense(units = 6, activation = 'relu'))"
   ]
  },
  {
   "cell_type": "markdown",
   "metadata": {},
   "source": [
    "### Adding the output layer"
   ]
  },
  {
   "cell_type": "code",
   "execution_count": 8,
   "metadata": {},
   "outputs": [],
   "source": [
    "# output = exited feature, binary output only requires one output neuron\n",
    "ann.add(tf.keras.layers.Dense(units = 1))"
   ]
  },
  {
   "cell_type": "markdown",
   "metadata": {},
   "source": [
    "## Part 3 - Training the ANN"
   ]
  },
  {
   "cell_type": "markdown",
   "metadata": {},
   "source": [
    "### Compiling the ANN"
   ]
  },
  {
   "cell_type": "code",
   "execution_count": 9,
   "metadata": {},
   "outputs": [],
   "source": [
    "# The ANN needs to be compiled with an optimizer function and a loss function before being trained\n",
    "# an optimizer function for the network, \n",
    "# ....There are several types of optimizers and the choice depends on the nature of the problem\n",
    "# Loss: used for calculating the losses and errors.\n",
    "# There are several types and the choice depends on the nature of the problem.\n",
    "# Metrics: the metric used to measure the accuracy of the model\n",
    "\n",
    "# adam: --> optimizer performing stochastic gradient descent \n",
    "# mean_squared_error: for regression, sum of square differences between real and predictions in the batch\n",
    "\n",
    "ann.compile(optimizer = 'adam', loss = 'mean_squared_error')"
   ]
  },
  {
   "cell_type": "markdown",
   "metadata": {},
   "source": [
    "### Training the ANN on the Training set"
   ]
  },
  {
   "cell_type": "code",
   "execution_count": 10,
   "metadata": {},
   "outputs": [
    {
     "name": "stdout",
     "output_type": "stream",
     "text": [
      "Train on 7654 samples\n",
      "Epoch 1/100\n",
      "7654/7654 [==============================] - 2s 206us/sample - loss: 59185.9896\n",
      "Epoch 2/100\n",
      "7654/7654 [==============================] - 1s 84us/sample - loss: 99.5359\n",
      "Epoch 3/100\n",
      "7654/7654 [==============================] - 1s 100us/sample - loss: 96.0339\n",
      "Epoch 4/100\n",
      "7654/7654 [==============================] - 1s 97us/sample - loss: 91.6826\n",
      "Epoch 5/100\n",
      "7654/7654 [==============================] - 1s 99us/sample - loss: 86.8473\n",
      "Epoch 6/100\n",
      "7654/7654 [==============================] - 1s 125us/sample - loss: 81.8562\n",
      "Epoch 7/100\n",
      "7654/7654 [==============================] - 1s 113us/sample - loss: 76.4548\n",
      "Epoch 8/100\n",
      "7654/7654 [==============================] - 1s 146us/sample - loss: 71.0703\n",
      "Epoch 9/100\n",
      "7654/7654 [==============================] - 1s 134us/sample - loss: 65.9972\n",
      "Epoch 10/100\n",
      "7654/7654 [==============================] - 1s 98us/sample - loss: 60.9993\n",
      "Epoch 11/100\n",
      "7654/7654 [==============================] - 1s 100us/sample - loss: 56.5015\n",
      "Epoch 12/100\n",
      "7654/7654 [==============================] - 1s 121us/sample - loss: 52.5479\n",
      "Epoch 13/100\n",
      "7654/7654 [==============================] - 1s 119us/sample - loss: 48.9155\n",
      "Epoch 14/100\n",
      "7654/7654 [==============================] - 1s 158us/sample - loss: 45.8494\n",
      "Epoch 15/100\n",
      "7654/7654 [==============================] - 1s 156us/sample - loss: 43.0923\n",
      "Epoch 16/100\n",
      "7654/7654 [==============================] - 1s 168us/sample - loss: 40.9534\n",
      "Epoch 17/100\n",
      "7654/7654 [==============================] - 1s 151us/sample - loss: 38.8979\n",
      "Epoch 18/100\n",
      "7654/7654 [==============================] - 1s 122us/sample - loss: 37.7067\n",
      "Epoch 19/100\n",
      "7654/7654 [==============================] - 1s 127us/sample - loss: 35.6957\n",
      "Epoch 20/100\n",
      "7654/7654 [==============================] - 1s 124us/sample - loss: 34.6983\n",
      "Epoch 21/100\n",
      "7654/7654 [==============================] - 1s 93us/sample - loss: 33.7946\n",
      "Epoch 22/100\n",
      "7654/7654 [==============================] - 1s 126us/sample - loss: 33.0142\n",
      "Epoch 23/100\n",
      "7654/7654 [==============================] - 1s 139us/sample - loss: 32.1850\n",
      "Epoch 24/100\n",
      "7654/7654 [==============================] - 1s 113us/sample - loss: 31.6720\n",
      "Epoch 25/100\n",
      "7654/7654 [==============================] - 1s 142us/sample - loss: 31.0253\n",
      "Epoch 26/100\n",
      "7654/7654 [==============================] - 1s 128us/sample - loss: 30.5849\n",
      "Epoch 27/100\n",
      "7654/7654 [==============================] - 1s 132us/sample - loss: 30.0706\n",
      "Epoch 28/100\n",
      "7654/7654 [==============================] - 1s 105us/sample - loss: 29.6740\n",
      "Epoch 29/100\n",
      "7654/7654 [==============================] - 1s 121us/sample - loss: 29.6748\n",
      "Epoch 30/100\n",
      "7654/7654 [==============================] - 1s 96us/sample - loss: 28.7292\n",
      "Epoch 31/100\n",
      "7654/7654 [==============================] - 1s 124us/sample - loss: 28.7826\n",
      "Epoch 32/100\n",
      "7654/7654 [==============================] - 1s 117us/sample - loss: 28.0761\n",
      "Epoch 33/100\n",
      "7654/7654 [==============================] - 1s 97us/sample - loss: 27.7350\n",
      "Epoch 34/100\n",
      "7654/7654 [==============================] - 1s 118us/sample - loss: 28.3552\n",
      "Epoch 35/100\n",
      "7654/7654 [==============================] - 1s 170us/sample - loss: 27.1861\n",
      "Epoch 36/100\n",
      "7654/7654 [==============================] - 1s 107us/sample - loss: 27.4931\n",
      "Epoch 37/100\n",
      "7654/7654 [==============================] - 1s 131us/sample - loss: 27.4157\n",
      "Epoch 38/100\n",
      "7654/7654 [==============================] - 1s 126us/sample - loss: 27.5792\n",
      "Epoch 39/100\n",
      "7654/7654 [==============================] - 1s 103us/sample - loss: 28.3689\n",
      "Epoch 40/100\n",
      "7654/7654 [==============================] - 1s 137us/sample - loss: 26.7388\n",
      "Epoch 41/100\n",
      "7654/7654 [==============================] - 1s 161us/sample - loss: 26.5441\n",
      "Epoch 42/100\n",
      "7654/7654 [==============================] - 1s 158us/sample - loss: 26.8038 - l\n",
      "Epoch 43/100\n",
      "7654/7654 [==============================] - 1s 131us/sample - loss: 27.8269\n",
      "Epoch 44/100\n",
      "7654/7654 [==============================] - 1s 117us/sample - loss: 27.1698\n",
      "Epoch 45/100\n",
      "7654/7654 [==============================] - 1s 117us/sample - loss: 27.5366\n",
      "Epoch 46/100\n",
      "7654/7654 [==============================] - 1s 98us/sample - loss: 27.9117\n",
      "Epoch 47/100\n",
      "7654/7654 [==============================] - 1s 123us/sample - loss: 26.7937\n",
      "Epoch 48/100\n",
      "7654/7654 [==============================] - 1s 103us/sample - loss: 26.5281\n",
      "Epoch 49/100\n",
      "7654/7654 [==============================] - 1s 113us/sample - loss: 26.9232\n",
      "Epoch 50/100\n",
      "7654/7654 [==============================] - 1s 169us/sample - loss: 26.2933\n",
      "Epoch 51/100\n",
      "7654/7654 [==============================] - 1s 97us/sample - loss: 27.7083\n",
      "Epoch 52/100\n",
      "7654/7654 [==============================] - 1s 111us/sample - loss: 27.1282\n",
      "Epoch 53/100\n",
      "7654/7654 [==============================] - 1s 105us/sample - loss: 26.4096\n",
      "Epoch 54/100\n",
      "7654/7654 [==============================] - 1s 86us/sample - loss: 27.1866\n",
      "Epoch 55/100\n",
      "7654/7654 [==============================] - 1s 107us/sample - loss: 26.3235\n",
      "Epoch 56/100\n",
      "7654/7654 [==============================] - 1s 86us/sample - loss: 27.1253\n",
      "Epoch 57/100\n",
      "7654/7654 [==============================] - 1s 123us/sample - loss: 27.4228\n",
      "Epoch 58/100\n",
      "7654/7654 [==============================] - 1s 119us/sample - loss: 26.5132\n",
      "Epoch 59/100\n",
      "7654/7654 [==============================] - 1s 138us/sample - loss: 26.7918\n",
      "Epoch 60/100\n",
      "7654/7654 [==============================] - 1s 103us/sample - loss: 26.7497\n",
      "Epoch 61/100\n",
      "7654/7654 [==============================] - 1s 92us/sample - loss: 27.1813\n",
      "Epoch 62/100\n",
      "7654/7654 [==============================] - 1s 101us/sample - loss: 26.5100\n",
      "Epoch 63/100\n",
      "7654/7654 [==============================] - 1s 93us/sample - loss: 27.2271\n",
      "Epoch 64/100\n",
      "7654/7654 [==============================] - 1s 103us/sample - loss: 26.4717\n",
      "Epoch 65/100\n",
      "7654/7654 [==============================] - 1s 109us/sample - loss: 26.1365\n",
      "Epoch 66/100\n",
      "7654/7654 [==============================] - 1s 88us/sample - loss: 27.1576\n",
      "Epoch 67/100\n",
      "7654/7654 [==============================] - 1s 112us/sample - loss: 26.5152\n",
      "Epoch 68/100\n",
      "7654/7654 [==============================] - 1s 95us/sample - loss: 27.5771\n",
      "Epoch 69/100\n",
      "7654/7654 [==============================] - 1s 100us/sample - loss: 27.4995\n",
      "Epoch 70/100\n",
      "7654/7654 [==============================] - 1s 95us/sample - loss: 26.4276\n",
      "Epoch 71/100\n",
      "7654/7654 [==============================] - 1s 109us/sample - loss: 26.9039\n",
      "Epoch 72/100\n",
      "7654/7654 [==============================] - 1s 101us/sample - loss: 26.4456\n",
      "Epoch 73/100\n",
      "7654/7654 [==============================] - 1s 94us/sample - loss: 26.5510\n",
      "Epoch 74/100\n",
      "7654/7654 [==============================] - 1s 101us/sample - loss: 26.4932\n",
      "Epoch 75/100\n",
      "7654/7654 [==============================] - 1s 93us/sample - loss: 26.5493\n",
      "Epoch 76/100\n",
      "7654/7654 [==============================] - 1s 99us/sample - loss: 26.7614\n",
      "Epoch 77/100\n",
      "7654/7654 [==============================] - 1s 104us/sample - loss: 26.6925\n",
      "Epoch 78/100\n",
      "7654/7654 [==============================] - 1s 134us/sample - loss: 26.9549\n",
      "Epoch 79/100\n",
      "7654/7654 [==============================] - 1s 132us/sample - loss: 26.5267\n",
      "Epoch 80/100\n",
      "7654/7654 [==============================] - 1s 149us/sample - loss: 27.8979\n",
      "Epoch 81/100\n",
      "7654/7654 [==============================] - 1s 96us/sample - loss: 26.3829\n",
      "Epoch 82/100\n",
      "7654/7654 [==============================] - 1s 102us/sample - loss: 26.5826\n",
      "Epoch 83/100\n",
      "7654/7654 [==============================] - 1s 93us/sample - loss: 26.9520\n",
      "Epoch 84/100\n",
      "7654/7654 [==============================] - 1s 105us/sample - loss: 27.1110\n",
      "Epoch 85/100\n",
      "7654/7654 [==============================] - 1s 95us/sample - loss: 26.1854\n",
      "Epoch 86/100\n",
      "7654/7654 [==============================] - 1s 98us/sample - loss: 27.6048\n",
      "Epoch 87/100\n",
      "7654/7654 [==============================] - 1s 97us/sample - loss: 26.8147\n",
      "Epoch 88/100\n",
      "7654/7654 [==============================] - 1s 97us/sample - loss: 26.5989\n",
      "Epoch 89/100\n",
      "7654/7654 [==============================] - 1s 97us/sample - loss: 26.7387\n",
      "Epoch 90/100\n",
      "7654/7654 [==============================] - 1s 95us/sample - loss: 26.4704\n",
      "Epoch 91/100\n",
      "7654/7654 [==============================] - 1s 102us/sample - loss: 26.8546\n",
      "Epoch 92/100\n"
     ]
    },
    {
     "name": "stdout",
     "output_type": "stream",
     "text": [
      "7654/7654 [==============================] - 1s 81us/sample - loss: 27.1374\n",
      "Epoch 93/100\n",
      "7654/7654 [==============================] - 1s 107us/sample - loss: 27.1773\n",
      "Epoch 94/100\n",
      "7654/7654 [==============================] - 1s 85us/sample - loss: 26.4120\n",
      "Epoch 95/100\n",
      "7654/7654 [==============================] - 1s 100us/sample - loss: 26.7751\n",
      "Epoch 96/100\n",
      "7654/7654 [==============================] - 1s 86us/sample - loss: 26.6023\n",
      "Epoch 97/100\n",
      "7654/7654 [==============================] - 1s 103us/sample - loss: 26.4290\n",
      "Epoch 98/100\n",
      "7654/7654 [==============================] - 1s 123us/sample - loss: 27.2071\n",
      "Epoch 99/100\n",
      "7654/7654 [==============================] - 1s 103us/sample - loss: 26.4767\n",
      "Epoch 100/100\n",
      "7654/7654 [==============================] - 1s 111us/sample - loss: 26.7072\n"
     ]
    },
    {
     "data": {
      "text/plain": [
       "<tensorflow.python.keras.callbacks.History at 0x208589463c8>"
      ]
     },
     "execution_count": 10,
     "metadata": {},
     "output_type": "execute_result"
    }
   ],
   "source": [
    "# batch learning = more efficient/performant in ANN training\n",
    "# rather than 1 by 1 prediction comparison --> batch per batch\n",
    "# classic batch_size value = 32\n",
    "ann.fit(X_train, y_train, batch_size = 32, epochs = 100)"
   ]
  },
  {
   "cell_type": "markdown",
   "metadata": {},
   "source": [
    "## Part 4 - Making the predictions and evaluating the model"
   ]
  },
  {
   "cell_type": "markdown",
   "metadata": {},
   "source": [
    "### Predicting the Test set results"
   ]
  },
  {
   "cell_type": "code",
   "execution_count": 15,
   "metadata": {},
   "outputs": [
    {
     "data": {
      "text/html": [
       "<div>\n",
       "<style scoped>\n",
       "    .dataframe tbody tr th:only-of-type {\n",
       "        vertical-align: middle;\n",
       "    }\n",
       "\n",
       "    .dataframe tbody tr th {\n",
       "        vertical-align: top;\n",
       "    }\n",
       "\n",
       "    .dataframe thead th {\n",
       "        text-align: right;\n",
       "    }\n",
       "</style>\n",
       "<table border=\"1\" class=\"dataframe\">\n",
       "  <thead>\n",
       "    <tr style=\"text-align: right;\">\n",
       "      <th></th>\n",
       "      <th>y_pred</th>\n",
       "      <th>y_test</th>\n",
       "    </tr>\n",
       "  </thead>\n",
       "  <tbody>\n",
       "    <tr>\n",
       "      <th>0</th>\n",
       "      <td>433.02</td>\n",
       "      <td>434.64</td>\n",
       "    </tr>\n",
       "    <tr>\n",
       "      <th>1</th>\n",
       "      <td>468.13</td>\n",
       "      <td>467.60</td>\n",
       "    </tr>\n",
       "    <tr>\n",
       "      <th>2</th>\n",
       "      <td>438.35</td>\n",
       "      <td>435.84</td>\n",
       "    </tr>\n",
       "    <tr>\n",
       "      <th>3</th>\n",
       "      <td>447.94</td>\n",
       "      <td>449.12</td>\n",
       "    </tr>\n",
       "    <tr>\n",
       "      <th>4</th>\n",
       "      <td>444.03</td>\n",
       "      <td>445.31</td>\n",
       "    </tr>\n",
       "    <tr>\n",
       "      <th>...</th>\n",
       "      <td>...</td>\n",
       "      <td>...</td>\n",
       "    </tr>\n",
       "    <tr>\n",
       "      <th>1909</th>\n",
       "      <td>466.08</td>\n",
       "      <td>469.52</td>\n",
       "    </tr>\n",
       "    <tr>\n",
       "      <th>1910</th>\n",
       "      <td>479.20</td>\n",
       "      <td>485.60</td>\n",
       "    </tr>\n",
       "    <tr>\n",
       "      <th>1911</th>\n",
       "      <td>474.40</td>\n",
       "      <td>475.53</td>\n",
       "    </tr>\n",
       "    <tr>\n",
       "      <th>1912</th>\n",
       "      <td>439.55</td>\n",
       "      <td>438.22</td>\n",
       "    </tr>\n",
       "    <tr>\n",
       "      <th>1913</th>\n",
       "      <td>453.49</td>\n",
       "      <td>449.85</td>\n",
       "    </tr>\n",
       "  </tbody>\n",
       "</table>\n",
       "<p>1914 rows × 2 columns</p>\n",
       "</div>"
      ],
      "text/plain": [
       "      y_pred  y_test\n",
       "0     433.02  434.64\n",
       "1     468.13  467.60\n",
       "2     438.35  435.84\n",
       "3     447.94  449.12\n",
       "4     444.03  445.31\n",
       "...      ...     ...\n",
       "1909  466.08  469.52\n",
       "1910  479.20  485.60\n",
       "1911  474.40  475.53\n",
       "1912  439.55  438.22\n",
       "1913  453.49  449.85\n",
       "\n",
       "[1914 rows x 2 columns]"
      ]
     },
     "execution_count": 15,
     "metadata": {},
     "output_type": "execute_result"
    }
   ],
   "source": [
    "y_pred = ann.predict(X_test)\n",
    "\n",
    "\n",
    "\n",
    "y_pred2y_test = pd.DataFrame(np.concatenate((y_pred.reshape(len(y_pred),1), y_test.reshape(len(y_test),1)),1))\n",
    "\n",
    "# set to 2 decimals with np\n",
    "#np.set_printoptions(precision=2)\n",
    "\n",
    "y_pred2y_test.columns = ['y_pred', 'y_test']\n",
    "round(y_pred2y_test, 2)"
   ]
  }
 ],
 "metadata": {
  "kernelspec": {
   "display_name": "Python 3",
   "language": "python",
   "name": "python3"
  },
  "language_info": {
   "codemirror_mode": {
    "name": "ipython",
    "version": 3
   },
   "file_extension": ".py",
   "mimetype": "text/x-python",
   "name": "python",
   "nbconvert_exporter": "python",
   "pygments_lexer": "ipython3",
   "version": "3.7.6"
  }
 },
 "nbformat": 4,
 "nbformat_minor": 4
}
