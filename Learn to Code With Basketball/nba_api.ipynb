{
 "cells": [
  {
   "cell_type": "markdown",
   "id": "1609853f",
   "metadata": {},
   "source": [
    "## Import libraries"
   ]
  },
  {
   "cell_type": "code",
   "id": "8143e571",
   "metadata": {
    "jupyter": {
     "is_executing": true
    },
    "ExecuteTime": {
     "start_time": "2024-08-07T14:23:51.493871Z"
    }
   },
   "source": [
    "from nba_api.stats.static import teams, players\n",
    "from pandas import DataFrame\n",
    "import pandas as pd"
   ],
   "outputs": [],
   "execution_count": null
  },
  {
   "cell_type": "markdown",
   "id": "396f0c27",
   "metadata": {},
   "source": [
    "## Player Data in nba_api"
   ]
  },
  {
   "cell_type": "code",
   "id": "38c0f5ae",
   "metadata": {
    "jupyter": {
     "is_executing": true
    }
   },
   "source": [
    "players_df = DataFrame(players.get_players())\n",
    "players_df.sample(15)"
   ],
   "outputs": [],
   "execution_count": null
  },
  {
   "cell_type": "code",
   "id": "caa584ad",
   "metadata": {
    "jupyter": {
     "is_executing": true
    }
   },
   "source": [
    "players_df.shape"
   ],
   "outputs": [],
   "execution_count": null
  },
  {
   "cell_type": "markdown",
   "id": "bdbdec0d",
   "metadata": {},
   "source": [
    "### and teams"
   ]
  },
  {
   "cell_type": "code",
   "id": "c691ac70",
   "metadata": {
    "scrolled": true,
    "jupyter": {
     "is_executing": true
    }
   },
   "source": [
    "team_df = DataFrame(teams.get_teams())\n",
    "team_df"
   ],
   "outputs": [],
   "execution_count": null
  },
  {
   "cell_type": "code",
   "id": "ac8d8235",
   "metadata": {
    "jupyter": {
     "is_executing": true
    }
   },
   "source": [
    "type(players.get_players())"
   ],
   "outputs": [],
   "execution_count": null
  },
  {
   "cell_type": "code",
   "id": "80f47b37",
   "metadata": {
    "jupyter": {
     "is_executing": true
    }
   },
   "source": [
    "type(teams.get_teams())"
   ],
   "outputs": [],
   "execution_count": null
  },
  {
   "cell_type": "markdown",
   "id": "13f3c89c",
   "metadata": {},
   "source": [
    "## Getting data with nba_api"
   ]
  },
  {
   "cell_type": "markdown",
   "id": "8708dbc6",
   "metadata": {},
   "source": [
    "### 1. Find an nba_api endpoint"
   ]
  },
  {
   "cell_type": "markdown",
   "id": "696d0728",
   "metadata": {},
   "source": [
    "### 2. Import nba_api Endpoint in Python"
   ]
  },
  {
   "cell_type": "code",
   "id": "ebee71a6",
   "metadata": {
    "jupyter": {
     "is_executing": true
    }
   },
   "source": [
    "from nba_api.stats.endpoints import commonplayerinfo"
   ],
   "outputs": [],
   "execution_count": null
  },
  {
   "cell_type": "code",
   "id": "4acd5e2b",
   "metadata": {
    "jupyter": {
     "is_executing": true
    }
   },
   "source": [
    "# Example usage\n",
    "player_id = 2544  # LeBron James\n",
    "player_info = commonplayerinfo.CommonPlayerInfo(player_id=player_id)\n",
    "player_info_df = player_info.get_data_frames()[0]\n",
    "\n",
    "player_info_df"
   ],
   "outputs": [],
   "execution_count": null
  },
  {
   "cell_type": "code",
   "id": "44d42ade",
   "metadata": {
    "jupyter": {
     "is_executing": true
    }
   },
   "source": [
    "player_info_df.columns"
   ],
   "outputs": [],
   "execution_count": null
  },
  {
   "cell_type": "code",
   "id": "ae89127e",
   "metadata": {
    "jupyter": {
     "is_executing": true
    }
   },
   "source": [
    "from nba_api.stats.endpoints.teamyearbyyearstats import TeamYearByYearStats"
   ],
   "outputs": [],
   "execution_count": null
  },
  {
   "cell_type": "code",
   "id": "97158b7c",
   "metadata": {
    "jupyter": {
     "is_executing": true
    }
   },
   "source": [
    "# TeamYearByYearStats?"
   ],
   "outputs": [],
   "execution_count": null
  },
  {
   "cell_type": "markdown",
   "id": "e2f82330",
   "metadata": {},
   "source": [
    "### 3. Calling the Endpoint"
   ]
  },
  {
   "cell_type": "code",
   "id": "4015129b",
   "metadata": {
    "jupyter": {
     "is_executing": true
    }
   },
   "source": [
    "celtics_id = '1610612738'\n",
    "celtics_data = TeamYearByYearStats(celtics_id)\n",
    "celtics_data"
   ],
   "outputs": [],
   "execution_count": null
  },
  {
   "cell_type": "markdown",
   "id": "3f114782",
   "metadata": {},
   "source": [
    "### 4. Getting Data in Pandas"
   ]
  },
  {
   "cell_type": "code",
   "id": "6baadad3",
   "metadata": {
    "jupyter": {
     "is_executing": true
    }
   },
   "source": [
    "celtics_df = celtics_data.get_data_frames()[0]\n",
    "celtics_df"
   ],
   "outputs": [],
   "execution_count": null
  },
  {
   "cell_type": "markdown",
   "id": "a81c336c",
   "metadata": {},
   "source": [
    "## Play by Play Example"
   ]
  },
  {
   "cell_type": "markdown",
   "id": "790a691b",
   "metadata": {},
   "source": [
    "### 1. Find an nba_api endpoint"
   ]
  },
  {
   "cell_type": "markdown",
   "id": "bb9b10d4",
   "metadata": {},
   "source": [
    "### 2. Import nba_api Endpoint in Python"
   ]
  },
  {
   "cell_type": "code",
   "id": "bad77865",
   "metadata": {
    "jupyter": {
     "is_executing": true
    }
   },
   "source": [
    "from nba_api.stats.endpoints.playbyplayv2 import PlayByPlayV2"
   ],
   "outputs": [],
   "execution_count": null
  },
  {
   "cell_type": "code",
   "id": "a7b8b10c",
   "metadata": {
    "jupyter": {
     "is_executing": true
    }
   },
   "source": [
    "#PlayByPlayV2?"
   ],
   "outputs": [],
   "execution_count": null
  },
  {
   "cell_type": "markdown",
   "id": "bc95ee53",
   "metadata": {},
   "source": [
    "### 3. Calling the EndPoint"
   ]
  },
  {
   "cell_type": "code",
   "id": "54acc30e",
   "metadata": {
    "jupyter": {
     "is_executing": true
    }
   },
   "source": [
    "game_id = '0021700807'\n",
    "pbp_data = PlayByPlayV2(game_id)\n",
    "pbp_data"
   ],
   "outputs": [],
   "execution_count": null
  },
  {
   "cell_type": "markdown",
   "id": "d6374203",
   "metadata": {},
   "source": [
    "### 4. Getting Data in Pandas"
   ]
  },
  {
   "cell_type": "code",
   "id": "e56779b5",
   "metadata": {
    "jupyter": {
     "is_executing": true
    }
   },
   "source": [
    "pbp_df = pbp_data.get_data_frames()[0]\n",
    "pbp_df.head()"
   ],
   "outputs": [],
   "execution_count": null
  },
  {
   "cell_type": "code",
   "id": "468f7e39",
   "metadata": {
    "jupyter": {
     "is_executing": true
    }
   },
   "source": [
    "pbp_df[['HOMEDESCRIPTION', 'VISITORDESCRIPTION']].head(10)"
   ],
   "outputs": [],
   "execution_count": null
  },
  {
   "cell_type": "markdown",
   "id": "275acf26",
   "metadata": {},
   "source": [
    "### for mutiple games"
   ]
  },
  {
   "cell_type": "code",
   "id": "1f0503f0",
   "metadata": {
    "jupyter": {
     "is_executing": true
    }
   },
   "source": [
    "from nba_api.stats.endpoints.teamgamelog import TeamGameLog"
   ],
   "outputs": [],
   "execution_count": null
  },
  {
   "cell_type": "code",
   "id": "b742ebdb",
   "metadata": {
    "jupyter": {
     "is_executing": true
    }
   },
   "source": [
    "# TeamGameLog?"
   ],
   "outputs": [],
   "execution_count": null
  },
  {
   "cell_type": "code",
   "id": "dadc526b",
   "metadata": {
    "jupyter": {
     "is_executing": true
    }
   },
   "source": [
    "team_df.query(\"abbreviation == 'GSW'\")[['id', 'full_name']]"
   ],
   "outputs": [],
   "execution_count": null
  },
  {
   "cell_type": "code",
   "id": "4f57f3fa",
   "metadata": {
    "jupyter": {
     "is_executing": true
    }
   },
   "source": [
    "warriors_id = '1610612744'"
   ],
   "outputs": [],
   "execution_count": null
  },
  {
   "cell_type": "code",
   "id": "30b9a8c0",
   "metadata": {
    "jupyter": {
     "is_executing": true
    }
   },
   "source": [
    "gsw_log = TeamGameLog(warriors_id).get_data_frames()[0]\n",
    "gsw_log.head()"
   ],
   "outputs": [],
   "execution_count": null
  },
  {
   "cell_type": "code",
   "id": "4cec3666",
   "metadata": {
    "jupyter": {
     "is_executing": true
    }
   },
   "source": [
    "gsw_game_ids = list(gsw_log['Game_ID'].head())\n",
    "gsw_game_ids"
   ],
   "outputs": [],
   "execution_count": null
  },
  {
   "cell_type": "code",
   "id": "6e825f36",
   "metadata": {
    "jupyter": {
     "is_executing": true
    }
   },
   "source": [
    "gsw_pbp_df1 = pd.concat([\n",
    "    PlayByPlayV2(x).get_data_frames()[0] for x in gsw_game_ids\n",
    "], ignore_index=True)\n",
    "\n",
    "gsw_pbp_df1[['HOMEDESCRIPTION', 'VISITORDESCRIPTION']].head(10)"
   ],
   "outputs": [],
   "execution_count": null
  },
  {
   "cell_type": "code",
   "id": "088fc61f",
   "metadata": {
    "jupyter": {
     "is_executing": true
    }
   },
   "source": [
    "def get_pbp_data(game_id):\n",
    "    try:\n",
    "        pbp_df = PlayByPlayV2(game_id).get_data_frames()[0]\n",
    "    except Exception as _:\n",
    "        pbp_df = DataFrame()\n",
    "        \n",
    "    return pbp_df"
   ],
   "outputs": [],
   "execution_count": null
  },
  {
   "cell_type": "code",
   "id": "63d94e0b",
   "metadata": {
    "jupyter": {
     "is_executing": true
    }
   },
   "source": [
    "get_pbp_data('0022301155')[['HOMEDESCRIPTION', 'VISITORDESCRIPTION']].head(10)"
   ],
   "outputs": [],
   "execution_count": null
  },
  {
   "cell_type": "code",
   "id": "c9cdcb9b",
   "metadata": {
    "jupyter": {
     "is_executing": true
    }
   },
   "source": [
    "get_pbp_data('XXXXXXXXXX')"
   ],
   "outputs": [],
   "execution_count": null
  },
  {
   "cell_type": "code",
   "id": "da0ecd74",
   "metadata": {
    "jupyter": {
     "is_executing": true
    }
   },
   "source": [
    "gsw_game_ids = gsw_game_ids + ['XXXXXXXXXX']"
   ],
   "outputs": [],
   "execution_count": null
  },
  {
   "cell_type": "code",
   "id": "76b9566b",
   "metadata": {
    "jupyter": {
     "is_executing": true
    }
   },
   "source": [
    "gsw_game_ids"
   ],
   "outputs": [],
   "execution_count": null
  },
  {
   "cell_type": "code",
   "id": "b41e09cb",
   "metadata": {
    "jupyter": {
     "is_executing": true
    }
   },
   "source": [
    "pbp_df_all = DataFrame()\n",
    "bad_game_ids = []\n",
    "for gid in gsw_game_ids:\n",
    "    print(gid)\n",
    "    try:\n",
    "        working_df = PlayByPlayV2(gid).get_data_frames()[0]\n",
    "    except Exception as _:\n",
    "        bad_game_ids = bad_game_ids + [gid]\n",
    "        continue\n",
    "        \n",
    "    pbp_df_all = pd.concat([pbp_df_all, working_df], ignore_index=True)"
   ],
   "outputs": [],
   "execution_count": null
  },
  {
   "cell_type": "code",
   "id": "5a73231a",
   "metadata": {
    "jupyter": {
     "is_executing": true
    }
   },
   "source": [
    "pbp_df_all['GAME_ID'].value_counts()"
   ],
   "outputs": [],
   "execution_count": null
  },
  {
   "cell_type": "code",
   "id": "a120c21c",
   "metadata": {
    "jupyter": {
     "is_executing": true
    }
   },
   "source": [
    "bad_game_ids"
   ],
   "outputs": [],
   "execution_count": null
  },
  {
   "cell_type": "code",
   "id": "349aab24",
   "metadata": {
    "jupyter": {
     "is_executing": true
    }
   },
   "source": [
    "import sqlite3\n",
    "from os import path"
   ],
   "outputs": [],
   "execution_count": null
  },
  {
   "cell_type": "code",
   "id": "ee981fb1",
   "metadata": {
    "jupyter": {
     "is_executing": true
    }
   },
   "source": [
    "# handle directories\n",
    "DATA_DIR = r'C:\\Users\\Maintenant pret\\OneDrive\\Documents\\Learn to Code With Basketball\\code-basketball-files-main\\data'\n",
    "\n",
    "# create connection\n",
    "conn = sqlite3.connect(path.join(DATA_DIR, 'basketball-data.sqlite'))"
   ],
   "outputs": [],
   "execution_count": null
  },
  {
   "cell_type": "code",
   "id": "b7460bc3",
   "metadata": {
    "jupyter": {
     "is_executing": true
    }
   },
   "source": [
    "# write it to sql\n",
    "players_df.to_sql('player', conn, index=False, if_exists='replace')\n",
    "celtics_df.to_sql('celtics', conn, index=False, if_exists='replace')\n",
    "gsw_pbp_df1.to_sql('gsw_pbp', conn, index=False, if_exists='replace')\n",
    "pbp_df_all.to_sql('pbp_all', conn, index=False, if_exists='replace')"
   ],
   "outputs": [],
   "execution_count": null
  },
  {
   "cell_type": "code",
   "id": "6e985473",
   "metadata": {
    "jupyter": {
     "is_executing": true
    }
   },
   "source": [
    "df = pd.read_sql(\n",
    "    \"\"\"\n",
    "    SELECT HOMEDESCRIPTION, VISITORDESCRIPTION\n",
    "    FROM pbp_all\n",
    "    \"\"\", conn)\n",
    "\n",
    "df.head()"
   ],
   "outputs": [],
   "execution_count": null
  },
  {
   "cell_type": "code",
   "id": "1fe77599",
   "metadata": {
    "jupyter": {
     "is_executing": true
    }
   },
   "source": [],
   "outputs": [],
   "execution_count": null
  }
 ],
 "metadata": {
  "kernelspec": {
   "display_name": "Python 3 (ipykernel)",
   "language": "python",
   "name": "python3"
  },
  "language_info": {
   "codemirror_mode": {
    "name": "ipython",
    "version": 3
   },
   "file_extension": ".py",
   "mimetype": "text/x-python",
   "name": "python",
   "nbconvert_exporter": "python",
   "pygments_lexer": "ipython3",
   "version": "3.11.5"
  }
 },
 "nbformat": 4,
 "nbformat_minor": 5
}
