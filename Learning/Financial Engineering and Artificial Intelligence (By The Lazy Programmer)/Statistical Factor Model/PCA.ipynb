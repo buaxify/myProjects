{
 "cells": [
  {
   "cell_type": "code",
   "execution_count": 1,
   "metadata": {},
   "outputs": [],
   "source": [
    "import pandas as pd\n",
    "import numpy as np\n",
    "import matplotlib.pyplot as plt"
   ]
  },
  {
   "cell_type": "code",
   "execution_count": 2,
   "metadata": {},
   "outputs": [
    {
     "data": {
      "text/html": [
       "<div>\n",
       "<style scoped>\n",
       "    .dataframe tbody tr th:only-of-type {\n",
       "        vertical-align: middle;\n",
       "    }\n",
       "\n",
       "    .dataframe tbody tr th {\n",
       "        vertical-align: top;\n",
       "    }\n",
       "\n",
       "    .dataframe thead th {\n",
       "        text-align: right;\n",
       "    }\n",
       "</style>\n",
       "<table border=\"1\" class=\"dataframe\">\n",
       "  <thead>\n",
       "    <tr style=\"text-align: right;\">\n",
       "      <th></th>\n",
       "      <th>CSCO</th>\n",
       "      <th>UAL</th>\n",
       "      <th>TROW</th>\n",
       "      <th>ISRG</th>\n",
       "      <th>PRGO</th>\n",
       "      <th>TPR</th>\n",
       "      <th>DVN</th>\n",
       "      <th>MRO</th>\n",
       "      <th>BA</th>\n",
       "      <th>VRTX</th>\n",
       "      <th>...</th>\n",
       "      <th>M</th>\n",
       "      <th>CRM</th>\n",
       "      <th>PGR</th>\n",
       "      <th>WAT</th>\n",
       "      <th>BWA</th>\n",
       "      <th>LRCX</th>\n",
       "      <th>NWL</th>\n",
       "      <th>UAA</th>\n",
       "      <th>BLK</th>\n",
       "      <th>PPL</th>\n",
       "    </tr>\n",
       "    <tr>\n",
       "      <th>Date</th>\n",
       "      <th></th>\n",
       "      <th></th>\n",
       "      <th></th>\n",
       "      <th></th>\n",
       "      <th></th>\n",
       "      <th></th>\n",
       "      <th></th>\n",
       "      <th></th>\n",
       "      <th></th>\n",
       "      <th></th>\n",
       "      <th></th>\n",
       "      <th></th>\n",
       "      <th></th>\n",
       "      <th></th>\n",
       "      <th></th>\n",
       "      <th></th>\n",
       "      <th></th>\n",
       "      <th></th>\n",
       "      <th></th>\n",
       "      <th></th>\n",
       "      <th></th>\n",
       "    </tr>\n",
       "  </thead>\n",
       "  <tbody>\n",
       "    <tr>\n",
       "      <td>2010-01-04</td>\n",
       "      <td>24.690001</td>\n",
       "      <td>12.80</td>\n",
       "      <td>54.400002</td>\n",
       "      <td>102.923332</td>\n",
       "      <td>40.349998</td>\n",
       "      <td>36.310001</td>\n",
       "      <td>76.570000</td>\n",
       "      <td>19.153616</td>\n",
       "      <td>56.180000</td>\n",
       "      <td>44.240002</td>\n",
       "      <td>...</td>\n",
       "      <td>17.059999</td>\n",
       "      <td>18.705000</td>\n",
       "      <td>18.030001</td>\n",
       "      <td>61.630001</td>\n",
       "      <td>16.889999</td>\n",
       "      <td>39.880001</td>\n",
       "      <td>15.20</td>\n",
       "      <td>3.51000</td>\n",
       "      <td>238.580002</td>\n",
       "      <td>30.242558</td>\n",
       "    </tr>\n",
       "    <tr>\n",
       "      <td>2010-01-05</td>\n",
       "      <td>24.580000</td>\n",
       "      <td>13.91</td>\n",
       "      <td>55.009998</td>\n",
       "      <td>102.459999</td>\n",
       "      <td>38.790001</td>\n",
       "      <td>36.750000</td>\n",
       "      <td>76.650002</td>\n",
       "      <td>19.171511</td>\n",
       "      <td>58.020000</td>\n",
       "      <td>42.779999</td>\n",
       "      <td>...</td>\n",
       "      <td>16.860001</td>\n",
       "      <td>18.625000</td>\n",
       "      <td>17.969999</td>\n",
       "      <td>60.790001</td>\n",
       "      <td>17.695000</td>\n",
       "      <td>39.610001</td>\n",
       "      <td>15.11</td>\n",
       "      <td>3.61500</td>\n",
       "      <td>239.610001</td>\n",
       "      <td>29.851370</td>\n",
       "    </tr>\n",
       "    <tr>\n",
       "      <td>2010-01-06</td>\n",
       "      <td>24.420000</td>\n",
       "      <td>13.27</td>\n",
       "      <td>54.150002</td>\n",
       "      <td>103.946663</td>\n",
       "      <td>38.299999</td>\n",
       "      <td>37.470001</td>\n",
       "      <td>76.419998</td>\n",
       "      <td>19.595024</td>\n",
       "      <td>59.779999</td>\n",
       "      <td>42.029999</td>\n",
       "      <td>...</td>\n",
       "      <td>17.100000</td>\n",
       "      <td>18.592501</td>\n",
       "      <td>17.790001</td>\n",
       "      <td>60.900002</td>\n",
       "      <td>18.344999</td>\n",
       "      <td>39.430000</td>\n",
       "      <td>15.38</td>\n",
       "      <td>3.69500</td>\n",
       "      <td>234.669998</td>\n",
       "      <td>29.916569</td>\n",
       "    </tr>\n",
       "    <tr>\n",
       "      <td>2010-01-07</td>\n",
       "      <td>24.530001</td>\n",
       "      <td>13.55</td>\n",
       "      <td>54.110001</td>\n",
       "      <td>103.556664</td>\n",
       "      <td>37.990002</td>\n",
       "      <td>37.490002</td>\n",
       "      <td>75.970001</td>\n",
       "      <td>19.475725</td>\n",
       "      <td>62.200001</td>\n",
       "      <td>41.500000</td>\n",
       "      <td>...</td>\n",
       "      <td>17.490000</td>\n",
       "      <td>18.510000</td>\n",
       "      <td>17.549999</td>\n",
       "      <td>61.160000</td>\n",
       "      <td>18.594999</td>\n",
       "      <td>39.360001</td>\n",
       "      <td>15.82</td>\n",
       "      <td>3.65125</td>\n",
       "      <td>237.250000</td>\n",
       "      <td>29.627834</td>\n",
       "    </tr>\n",
       "    <tr>\n",
       "      <td>2010-01-08</td>\n",
       "      <td>24.660000</td>\n",
       "      <td>13.33</td>\n",
       "      <td>53.900002</td>\n",
       "      <td>102.986664</td>\n",
       "      <td>37.779999</td>\n",
       "      <td>37.270000</td>\n",
       "      <td>76.120003</td>\n",
       "      <td>19.505550</td>\n",
       "      <td>61.599998</td>\n",
       "      <td>40.669998</td>\n",
       "      <td>...</td>\n",
       "      <td>16.920000</td>\n",
       "      <td>18.537500</td>\n",
       "      <td>17.709999</td>\n",
       "      <td>61.209999</td>\n",
       "      <td>18.254999</td>\n",
       "      <td>40.349998</td>\n",
       "      <td>15.77</td>\n",
       "      <td>3.64375</td>\n",
       "      <td>238.919998</td>\n",
       "      <td>29.534695</td>\n",
       "    </tr>\n",
       "  </tbody>\n",
       "</table>\n",
       "<p>5 rows × 480 columns</p>\n",
       "</div>"
      ],
      "text/plain": [
       "                 CSCO    UAL       TROW        ISRG       PRGO        TPR  \\\n",
       "Date                                                                        \n",
       "2010-01-04  24.690001  12.80  54.400002  102.923332  40.349998  36.310001   \n",
       "2010-01-05  24.580000  13.91  55.009998  102.459999  38.790001  36.750000   \n",
       "2010-01-06  24.420000  13.27  54.150002  103.946663  38.299999  37.470001   \n",
       "2010-01-07  24.530001  13.55  54.110001  103.556664  37.990002  37.490002   \n",
       "2010-01-08  24.660000  13.33  53.900002  102.986664  37.779999  37.270000   \n",
       "\n",
       "                  DVN        MRO         BA       VRTX  ...          M  \\\n",
       "Date                                                    ...              \n",
       "2010-01-04  76.570000  19.153616  56.180000  44.240002  ...  17.059999   \n",
       "2010-01-05  76.650002  19.171511  58.020000  42.779999  ...  16.860001   \n",
       "2010-01-06  76.419998  19.595024  59.779999  42.029999  ...  17.100000   \n",
       "2010-01-07  75.970001  19.475725  62.200001  41.500000  ...  17.490000   \n",
       "2010-01-08  76.120003  19.505550  61.599998  40.669998  ...  16.920000   \n",
       "\n",
       "                  CRM        PGR        WAT        BWA       LRCX    NWL  \\\n",
       "Date                                                                       \n",
       "2010-01-04  18.705000  18.030001  61.630001  16.889999  39.880001  15.20   \n",
       "2010-01-05  18.625000  17.969999  60.790001  17.695000  39.610001  15.11   \n",
       "2010-01-06  18.592501  17.790001  60.900002  18.344999  39.430000  15.38   \n",
       "2010-01-07  18.510000  17.549999  61.160000  18.594999  39.360001  15.82   \n",
       "2010-01-08  18.537500  17.709999  61.209999  18.254999  40.349998  15.77   \n",
       "\n",
       "                UAA         BLK        PPL  \n",
       "Date                                        \n",
       "2010-01-04  3.51000  238.580002  30.242558  \n",
       "2010-01-05  3.61500  239.610001  29.851370  \n",
       "2010-01-06  3.69500  234.669998  29.916569  \n",
       "2010-01-07  3.65125  237.250000  29.627834  \n",
       "2010-01-08  3.64375  238.919998  29.534695  \n",
       "\n",
       "[5 rows x 480 columns]"
      ]
     },
     "execution_count": 2,
     "metadata": {},
     "output_type": "execute_result"
    }
   ],
   "source": [
    "df = pd.read_csv(r\"sp500_closefull.csv\", index_col=0, parse_dates=True)\n",
    "df.head()"
   ]
  },
  {
   "cell_type": "code",
   "execution_count": 3,
   "metadata": {},
   "outputs": [
    {
     "data": {
      "text/plain": [
       "(2270, 480)"
      ]
     },
     "execution_count": 3,
     "metadata": {},
     "output_type": "execute_result"
    }
   ],
   "source": [
    "df.shape"
   ]
  },
  {
   "cell_type": "code",
   "execution_count": 4,
   "metadata": {},
   "outputs": [],
   "source": [
    "# drop any columns with at least 10 missing values\n",
    "df.dropna(axis=1, thresh=len(df) - 10, inplace=True)"
   ]
  },
  {
   "cell_type": "code",
   "execution_count": 5,
   "metadata": {},
   "outputs": [
    {
     "data": {
      "text/plain": [
       "(2270, 430)"
      ]
     },
     "execution_count": 5,
     "metadata": {},
     "output_type": "execute_result"
    }
   ],
   "source": [
    "df.shape"
   ]
  },
  {
   "cell_type": "code",
   "execution_count": 6,
   "metadata": {},
   "outputs": [
    {
     "data": {
      "text/plain": [
       "3011"
      ]
     },
     "execution_count": 6,
     "metadata": {},
     "output_type": "execute_result"
    }
   ],
   "source": [
    "df.isna().sum().sum()"
   ]
  },
  {
   "cell_type": "code",
   "execution_count": 7,
   "metadata": {},
   "outputs": [
    {
     "data": {
      "text/plain": [
       "1"
      ]
     },
     "execution_count": 7,
     "metadata": {},
     "output_type": "execute_result"
    }
   ],
   "source": [
    "# forward fill and backfill\n",
    "\n",
    "df.fillna(method='ffill', inplace=True)\n",
    "df.isna().sum().sum()"
   ]
  },
  {
   "cell_type": "code",
   "execution_count": 8,
   "metadata": {},
   "outputs": [
    {
     "data": {
      "text/plain": [
       "0"
      ]
     },
     "execution_count": 8,
     "metadata": {},
     "output_type": "execute_result"
    }
   ],
   "source": [
    "# forward fill and backfill\n",
    "\n",
    "df.fillna(method='bfill', inplace=True)\n",
    "df.isna().sum().sum()"
   ]
  },
  {
   "cell_type": "code",
   "execution_count": 9,
   "metadata": {},
   "outputs": [],
   "source": [
    "all_dates = df.index.unique().sort_values()"
   ]
  },
  {
   "cell_type": "code",
   "execution_count": 10,
   "metadata": {},
   "outputs": [],
   "source": [
    "start = all_dates.get_loc('2014-01-02')\n",
    "end = all_dates.get_loc('2017-06-30')\n",
    "dates = all_dates[start:end+1]"
   ]
  },
  {
   "cell_type": "code",
   "execution_count": 11,
   "metadata": {},
   "outputs": [],
   "source": [
    "# empty dataframe\n",
    "returns = pd.DataFrame(index=all_dates[1:])"
   ]
  },
  {
   "cell_type": "code",
   "execution_count": 12,
   "metadata": {},
   "outputs": [
    {
     "data": {
      "text/html": [
       "<div>\n",
       "<style scoped>\n",
       "    .dataframe tbody tr th:only-of-type {\n",
       "        vertical-align: middle;\n",
       "    }\n",
       "\n",
       "    .dataframe tbody tr th {\n",
       "        vertical-align: top;\n",
       "    }\n",
       "\n",
       "    .dataframe thead th {\n",
       "        text-align: right;\n",
       "    }\n",
       "</style>\n",
       "<table border=\"1\" class=\"dataframe\">\n",
       "  <thead>\n",
       "    <tr style=\"text-align: right;\">\n",
       "      <th></th>\n",
       "      <th>CSCO</th>\n",
       "      <th>UAL</th>\n",
       "      <th>TROW</th>\n",
       "      <th>ISRG</th>\n",
       "      <th>PRGO</th>\n",
       "      <th>TPR</th>\n",
       "      <th>DVN</th>\n",
       "      <th>MRO</th>\n",
       "      <th>BA</th>\n",
       "      <th>VRTX</th>\n",
       "      <th>...</th>\n",
       "      <th>M</th>\n",
       "      <th>CRM</th>\n",
       "      <th>PGR</th>\n",
       "      <th>WAT</th>\n",
       "      <th>BWA</th>\n",
       "      <th>LRCX</th>\n",
       "      <th>NWL</th>\n",
       "      <th>UAA</th>\n",
       "      <th>BLK</th>\n",
       "      <th>PPL</th>\n",
       "    </tr>\n",
       "    <tr>\n",
       "      <th>Date</th>\n",
       "      <th></th>\n",
       "      <th></th>\n",
       "      <th></th>\n",
       "      <th></th>\n",
       "      <th></th>\n",
       "      <th></th>\n",
       "      <th></th>\n",
       "      <th></th>\n",
       "      <th></th>\n",
       "      <th></th>\n",
       "      <th></th>\n",
       "      <th></th>\n",
       "      <th></th>\n",
       "      <th></th>\n",
       "      <th></th>\n",
       "      <th></th>\n",
       "      <th></th>\n",
       "      <th></th>\n",
       "      <th></th>\n",
       "      <th></th>\n",
       "      <th></th>\n",
       "    </tr>\n",
       "  </thead>\n",
       "  <tbody>\n",
       "    <tr>\n",
       "      <td>2010-01-05</td>\n",
       "      <td>-0.004465</td>\n",
       "      <td>0.083163</td>\n",
       "      <td>0.011151</td>\n",
       "      <td>-0.004512</td>\n",
       "      <td>-0.039429</td>\n",
       "      <td>0.012045</td>\n",
       "      <td>0.001044</td>\n",
       "      <td>0.000934</td>\n",
       "      <td>0.032227</td>\n",
       "      <td>-0.033559</td>\n",
       "      <td>...</td>\n",
       "      <td>-0.011793</td>\n",
       "      <td>-0.004286</td>\n",
       "      <td>-0.003333</td>\n",
       "      <td>-0.013723</td>\n",
       "      <td>0.046560</td>\n",
       "      <td>-0.006793</td>\n",
       "      <td>-0.005939</td>\n",
       "      <td>0.029476</td>\n",
       "      <td>0.004308</td>\n",
       "      <td>-0.013019</td>\n",
       "    </tr>\n",
       "    <tr>\n",
       "      <td>2010-01-06</td>\n",
       "      <td>-0.006531</td>\n",
       "      <td>-0.047102</td>\n",
       "      <td>-0.015757</td>\n",
       "      <td>0.014405</td>\n",
       "      <td>-0.012713</td>\n",
       "      <td>0.019402</td>\n",
       "      <td>-0.003005</td>\n",
       "      <td>0.021850</td>\n",
       "      <td>0.029883</td>\n",
       "      <td>-0.017687</td>\n",
       "      <td>...</td>\n",
       "      <td>0.014134</td>\n",
       "      <td>-0.001746</td>\n",
       "      <td>-0.010067</td>\n",
       "      <td>0.001808</td>\n",
       "      <td>0.036075</td>\n",
       "      <td>-0.004555</td>\n",
       "      <td>0.017711</td>\n",
       "      <td>0.021889</td>\n",
       "      <td>-0.020832</td>\n",
       "      <td>0.002182</td>\n",
       "    </tr>\n",
       "    <tr>\n",
       "      <td>2010-01-07</td>\n",
       "      <td>0.004494</td>\n",
       "      <td>0.020881</td>\n",
       "      <td>-0.000739</td>\n",
       "      <td>-0.003759</td>\n",
       "      <td>-0.008127</td>\n",
       "      <td>0.000534</td>\n",
       "      <td>-0.005906</td>\n",
       "      <td>-0.006107</td>\n",
       "      <td>0.039684</td>\n",
       "      <td>-0.012690</td>\n",
       "      <td>...</td>\n",
       "      <td>0.022551</td>\n",
       "      <td>-0.004447</td>\n",
       "      <td>-0.013583</td>\n",
       "      <td>0.004260</td>\n",
       "      <td>0.013536</td>\n",
       "      <td>-0.001777</td>\n",
       "      <td>0.028207</td>\n",
       "      <td>-0.011911</td>\n",
       "      <td>0.010934</td>\n",
       "      <td>-0.009698</td>\n",
       "    </tr>\n",
       "    <tr>\n",
       "      <td>2010-01-08</td>\n",
       "      <td>0.005286</td>\n",
       "      <td>-0.016369</td>\n",
       "      <td>-0.003889</td>\n",
       "      <td>-0.005519</td>\n",
       "      <td>-0.005543</td>\n",
       "      <td>-0.005886</td>\n",
       "      <td>0.001973</td>\n",
       "      <td>0.001530</td>\n",
       "      <td>-0.009693</td>\n",
       "      <td>-0.020203</td>\n",
       "      <td>...</td>\n",
       "      <td>-0.033133</td>\n",
       "      <td>0.001485</td>\n",
       "      <td>0.009075</td>\n",
       "      <td>0.000817</td>\n",
       "      <td>-0.018454</td>\n",
       "      <td>0.024841</td>\n",
       "      <td>-0.003166</td>\n",
       "      <td>-0.002056</td>\n",
       "      <td>0.007014</td>\n",
       "      <td>-0.003149</td>\n",
       "    </tr>\n",
       "    <tr>\n",
       "      <td>2010-01-11</td>\n",
       "      <td>-0.002843</td>\n",
       "      <td>-0.016642</td>\n",
       "      <td>0.007025</td>\n",
       "      <td>0.007513</td>\n",
       "      <td>0.043001</td>\n",
       "      <td>0.027783</td>\n",
       "      <td>-0.013757</td>\n",
       "      <td>0.000000</td>\n",
       "      <td>-0.011921</td>\n",
       "      <td>0.028123</td>\n",
       "      <td>...</td>\n",
       "      <td>-0.017890</td>\n",
       "      <td>-0.006766</td>\n",
       "      <td>-0.025738</td>\n",
       "      <td>0.019735</td>\n",
       "      <td>-0.001645</td>\n",
       "      <td>0.026414</td>\n",
       "      <td>-0.010838</td>\n",
       "      <td>-0.002060</td>\n",
       "      <td>0.016150</td>\n",
       "      <td>0.012847</td>\n",
       "    </tr>\n",
       "  </tbody>\n",
       "</table>\n",
       "<p>5 rows × 430 columns</p>\n",
       "</div>"
      ],
      "text/plain": [
       "                CSCO       UAL      TROW      ISRG      PRGO       TPR  \\\n",
       "Date                                                                     \n",
       "2010-01-05 -0.004465  0.083163  0.011151 -0.004512 -0.039429  0.012045   \n",
       "2010-01-06 -0.006531 -0.047102 -0.015757  0.014405 -0.012713  0.019402   \n",
       "2010-01-07  0.004494  0.020881 -0.000739 -0.003759 -0.008127  0.000534   \n",
       "2010-01-08  0.005286 -0.016369 -0.003889 -0.005519 -0.005543 -0.005886   \n",
       "2010-01-11 -0.002843 -0.016642  0.007025  0.007513  0.043001  0.027783   \n",
       "\n",
       "                 DVN       MRO        BA      VRTX  ...         M       CRM  \\\n",
       "Date                                                ...                       \n",
       "2010-01-05  0.001044  0.000934  0.032227 -0.033559  ... -0.011793 -0.004286   \n",
       "2010-01-06 -0.003005  0.021850  0.029883 -0.017687  ...  0.014134 -0.001746   \n",
       "2010-01-07 -0.005906 -0.006107  0.039684 -0.012690  ...  0.022551 -0.004447   \n",
       "2010-01-08  0.001973  0.001530 -0.009693 -0.020203  ... -0.033133  0.001485   \n",
       "2010-01-11 -0.013757  0.000000 -0.011921  0.028123  ... -0.017890 -0.006766   \n",
       "\n",
       "                 PGR       WAT       BWA      LRCX       NWL       UAA  \\\n",
       "Date                                                                     \n",
       "2010-01-05 -0.003333 -0.013723  0.046560 -0.006793 -0.005939  0.029476   \n",
       "2010-01-06 -0.010067  0.001808  0.036075 -0.004555  0.017711  0.021889   \n",
       "2010-01-07 -0.013583  0.004260  0.013536 -0.001777  0.028207 -0.011911   \n",
       "2010-01-08  0.009075  0.000817 -0.018454  0.024841 -0.003166 -0.002056   \n",
       "2010-01-11 -0.025738  0.019735 -0.001645  0.026414 -0.010838 -0.002060   \n",
       "\n",
       "                 BLK       PPL  \n",
       "Date                            \n",
       "2010-01-05  0.004308 -0.013019  \n",
       "2010-01-06 -0.020832  0.002182  \n",
       "2010-01-07  0.010934 -0.009698  \n",
       "2010-01-08  0.007014 -0.003149  \n",
       "2010-01-11  0.016150  0.012847  \n",
       "\n",
       "[5 rows x 430 columns]"
      ]
     },
     "execution_count": 12,
     "metadata": {},
     "output_type": "execute_result"
    }
   ],
   "source": [
    "for name in df.columns:\n",
    "    current_returns = np.log(df[name]).diff()\n",
    "    returns[name] = current_returns.iloc[1:]\n",
    "\n",
    "returns.head()"
   ]
  },
  {
   "cell_type": "code",
   "execution_count": 13,
   "metadata": {},
   "outputs": [
    {
     "data": {
      "text/plain": [
       "(2269, 430)"
      ]
     },
     "execution_count": 13,
     "metadata": {},
     "output_type": "execute_result"
    }
   ],
   "source": [
    "X = returns.to_numpy()\n",
    "\n",
    "# standardize each column in data (with mean 0 an var 1)\n",
    "# pca --> find direction of greatest variance --> put them on equal footing\n",
    "from sklearn.preprocessing import StandardScaler\n",
    "scaler = StandardScaler()\n",
    "X = scaler.fit_transform(X)\n",
    "\n",
    "X.shape"
   ]
  },
  {
   "cell_type": "code",
   "execution_count": 14,
   "metadata": {},
   "outputs": [
    {
     "data": {
      "text/plain": [
       "(2269, 430)"
      ]
     },
     "execution_count": 14,
     "metadata": {},
     "output_type": "execute_result"
    }
   ],
   "source": [
    "from sklearn.decomposition import PCA\n",
    "model = PCA()\n",
    "Z = model.fit_transform(X)\n",
    "\n",
    "Z.shape # should be same as for X"
   ]
  },
  {
   "cell_type": "code",
   "execution_count": 15,
   "metadata": {},
   "outputs": [
    {
     "data": {
      "text/plain": [
       "[<matplotlib.lines.Line2D at 0x2903c96ee48>]"
      ]
     },
     "execution_count": 15,
     "metadata": {},
     "output_type": "execute_result"
    },
    {
     "data": {
      "image/png": "[encoded data removed]",
      "text/plain": [
       "<Figure size 432x288 with 1 Axes>"
      ]
     },
     "metadata": {
      "needs_background": "light"
     },
     "output_type": "display_data"
    }
   ],
   "source": [
    "plt.plot(model.explained_variance_ratio_) # ratio because normalise variance, sum them all up to 1 (percentage)\n",
    "\n",
    "# majority of the variance is explaine by the 1st principle component, looks to be about 35%\n",
    "# after variance seems to drop off quite fast"
   ]
  },
  {
   "cell_type": "code",
   "execution_count": 16,
   "metadata": {},
   "outputs": [
    {
     "data": {
      "text/plain": [
       "[<matplotlib.lines.Line2D at 0x2903ca1d4c8>]"
      ]
     },
     "execution_count": 16,
     "metadata": {},
     "output_type": "execute_result"
    },
    {
     "data": {
      "image/png": "[encoded data removed]",
      "text/plain": [
       "<Figure size 432x288 with 1 Axes>"
      ]
     },
     "metadata": {
      "needs_background": "light"
     },
     "output_type": "display_data"
    }
   ],
   "source": [
    "plt.plot(model.explained_variance_ratio_[:10]) # closer look, just 1st 10 values\n",
    "\n",
    "# 1st principle component explains over 35%, 2nd principle component explains about 5%\n",
    "# after variance drop even further to about 1 or 2%"
   ]
  },
  {
   "cell_type": "code",
   "execution_count": 17,
   "metadata": {},
   "outputs": [
    {
     "data": {
      "text/plain": [
       "[<matplotlib.lines.Line2D at 0x2903ca6b408>]"
      ]
     },
     "execution_count": 17,
     "metadata": {},
     "output_type": "execute_result"
    },
    {
     "data": {
      "image/png": "[encoded data removed]",
      "text/plain": [
       "<Figure size 432x288 with 1 Axes>"
      ]
     },
     "metadata": {
      "needs_background": "light"
     },
     "output_type": "display_data"
    }
   ],
   "source": [
    "# cumulative sum to find out how much of the total variance have we accounted for if we keep 1 principal component\n",
    "cumulative_variance = np.cumsum(model.explained_variance_ratio_)\n",
    "plt.plot(cumulative_variance)\n",
    "\n",
    "# steep rise due to 1st explaining nearly 40% of the data, after diminishing returns for each priniciple component\n",
    "# CAPM says influential factor --> market, after that just noise from each individual stocks, which is what we seeing\n",
    "# we only have 1 significant compenent, others are small in coparison"
   ]
  },
  {
   "cell_type": "code",
   "execution_count": 18,
   "metadata": {},
   "outputs": [
    {
     "data": {
      "text/plain": [
       "[<matplotlib.lines.Line2D at 0x2903caf1d48>]"
      ]
     },
     "execution_count": 18,
     "metadata": {},
     "output_type": "execute_result"
    },
    {
     "data": {
      "image/png": "[encoded data removed]",
      "text/plain": [
       "<Figure size 432x288 with 1 Axes>"
      ]
     },
     "metadata": {
      "needs_background": "light"
     },
     "output_type": "display_data"
    }
   ],
   "source": [
    "# Plot first principal component vs S&P\n",
    "plt.plot(Z[:, 0]) # 1st col of Z"
   ]
  },
  {
   "cell_type": "code",
   "execution_count": 19,
   "metadata": {},
   "outputs": [
    {
     "data": {
      "text/html": [
       "<div>\n",
       "<style scoped>\n",
       "    .dataframe tbody tr th:only-of-type {\n",
       "        vertical-align: middle;\n",
       "    }\n",
       "\n",
       "    .dataframe tbody tr th {\n",
       "        vertical-align: top;\n",
       "    }\n",
       "\n",
       "    .dataframe thead th {\n",
       "        text-align: right;\n",
       "    }\n",
       "</style>\n",
       "<table border=\"1\" class=\"dataframe\">\n",
       "  <thead>\n",
       "    <tr style=\"text-align: right;\">\n",
       "      <th></th>\n",
       "      <th>PC1</th>\n",
       "    </tr>\n",
       "    <tr>\n",
       "      <th>Date</th>\n",
       "      <th></th>\n",
       "    </tr>\n",
       "  </thead>\n",
       "  <tbody>\n",
       "    <tr>\n",
       "      <td>2010-01-05</td>\n",
       "      <td>-3.082268</td>\n",
       "    </tr>\n",
       "    <tr>\n",
       "      <td>2010-01-06</td>\n",
       "      <td>-1.658736</td>\n",
       "    </tr>\n",
       "    <tr>\n",
       "      <td>2010-01-07</td>\n",
       "      <td>-7.838046</td>\n",
       "    </tr>\n",
       "    <tr>\n",
       "      <td>2010-01-08</td>\n",
       "      <td>-3.300012</td>\n",
       "    </tr>\n",
       "    <tr>\n",
       "      <td>2010-01-11</td>\n",
       "      <td>-3.664966</td>\n",
       "    </tr>\n",
       "  </tbody>\n",
       "</table>\n",
       "</div>"
      ],
      "text/plain": [
       "                 PC1\n",
       "Date                \n",
       "2010-01-05 -3.082268\n",
       "2010-01-06 -1.658736\n",
       "2010-01-07 -7.838046\n",
       "2010-01-08 -3.300012\n",
       "2010-01-11 -3.664966"
      ]
     },
     "execution_count": 19,
     "metadata": {},
     "output_type": "execute_result"
    }
   ],
   "source": [
    "Z_df = pd.DataFrame(index=returns.index)\n",
    "Z_df['PC1'] = Z[:, 0]\n",
    "\n",
    "Z_df.head()"
   ]
  },
  {
   "cell_type": "code",
   "execution_count": 20,
   "metadata": {},
   "outputs": [
    {
     "data": {
      "text/plain": [
       "<matplotlib.axes._subplots.AxesSubplot at 0x2903cb2ff08>"
      ]
     },
     "execution_count": 20,
     "metadata": {},
     "output_type": "execute_result"
    },
    {
     "data": {
      "image/png": "[encoded data removed]",
      "text/plain": [
       "<Figure size 432x288 with 1 Axes>"
      ]
     },
     "metadata": {
      "needs_background": "light"
     },
     "output_type": "display_data"
    }
   ],
   "source": [
    "spy = pd.read_csv(r\"SPY.csv\", index_col=0, parse_dates=True)\n",
    "spy_returns = -np.log(spy['Close']).diff().dropna() # negate log returns so that it lines up with PC1\n",
    "spy_returns.plot()"
   ]
  },
  {
   "cell_type": "code",
   "execution_count": 21,
   "metadata": {},
   "outputs": [
    {
     "data": {
      "text/html": [
       "<div>\n",
       "<style scoped>\n",
       "    .dataframe tbody tr th:only-of-type {\n",
       "        vertical-align: middle;\n",
       "    }\n",
       "\n",
       "    .dataframe tbody tr th {\n",
       "        vertical-align: top;\n",
       "    }\n",
       "\n",
       "    .dataframe thead th {\n",
       "        text-align: right;\n",
       "    }\n",
       "</style>\n",
       "<table border=\"1\" class=\"dataframe\">\n",
       "  <thead>\n",
       "    <tr style=\"text-align: right;\">\n",
       "      <th></th>\n",
       "      <th>PC1</th>\n",
       "      <th>Close</th>\n",
       "    </tr>\n",
       "    <tr>\n",
       "      <th>Date</th>\n",
       "      <th></th>\n",
       "      <th></th>\n",
       "    </tr>\n",
       "  </thead>\n",
       "  <tbody>\n",
       "    <tr>\n",
       "      <td>2010-01-05</td>\n",
       "      <td>-3.082268</td>\n",
       "      <td>-0.002644</td>\n",
       "    </tr>\n",
       "    <tr>\n",
       "      <td>2010-01-06</td>\n",
       "      <td>-1.658736</td>\n",
       "      <td>-0.000704</td>\n",
       "    </tr>\n",
       "    <tr>\n",
       "      <td>2010-01-07</td>\n",
       "      <td>-7.838046</td>\n",
       "      <td>-0.004212</td>\n",
       "    </tr>\n",
       "    <tr>\n",
       "      <td>2010-01-08</td>\n",
       "      <td>-3.300012</td>\n",
       "      <td>-0.003322</td>\n",
       "    </tr>\n",
       "    <tr>\n",
       "      <td>2010-01-11</td>\n",
       "      <td>-3.664966</td>\n",
       "      <td>-0.001396</td>\n",
       "    </tr>\n",
       "  </tbody>\n",
       "</table>\n",
       "</div>"
      ],
      "text/plain": [
       "                 PC1     Close\n",
       "Date                          \n",
       "2010-01-05 -3.082268 -0.002644\n",
       "2010-01-06 -1.658736 -0.000704\n",
       "2010-01-07 -7.838046 -0.004212\n",
       "2010-01-08 -3.300012 -0.003322\n",
       "2010-01-11 -3.664966 -0.001396"
      ]
     },
     "execution_count": 21,
     "metadata": {},
     "output_type": "execute_result"
    }
   ],
   "source": [
    "joined = Z_df.join(spy_returns)\n",
    "joined.head()\n",
    "\n",
    "# not on same scale, PC1 = rotation of standardized stock returns, spy = actual stock retun of SP500"
   ]
  },
  {
   "cell_type": "code",
   "execution_count": 22,
   "metadata": {},
   "outputs": [
    {
     "data": {
      "text/html": [
       "<div>\n",
       "<style scoped>\n",
       "    .dataframe tbody tr th:only-of-type {\n",
       "        vertical-align: middle;\n",
       "    }\n",
       "\n",
       "    .dataframe tbody tr th {\n",
       "        vertical-align: top;\n",
       "    }\n",
       "\n",
       "    .dataframe thead th {\n",
       "        text-align: right;\n",
       "    }\n",
       "</style>\n",
       "<table border=\"1\" class=\"dataframe\">\n",
       "  <thead>\n",
       "    <tr style=\"text-align: right;\">\n",
       "      <th></th>\n",
       "      <th>PC1</th>\n",
       "      <th>SPY</th>\n",
       "    </tr>\n",
       "    <tr>\n",
       "      <th>Date</th>\n",
       "      <th></th>\n",
       "      <th></th>\n",
       "    </tr>\n",
       "  </thead>\n",
       "  <tbody>\n",
       "    <tr>\n",
       "      <td>2010-01-05</td>\n",
       "      <td>-3.082268</td>\n",
       "      <td>-0.002644</td>\n",
       "    </tr>\n",
       "    <tr>\n",
       "      <td>2010-01-06</td>\n",
       "      <td>-1.658736</td>\n",
       "      <td>-0.000704</td>\n",
       "    </tr>\n",
       "    <tr>\n",
       "      <td>2010-01-07</td>\n",
       "      <td>-7.838046</td>\n",
       "      <td>-0.004212</td>\n",
       "    </tr>\n",
       "    <tr>\n",
       "      <td>2010-01-08</td>\n",
       "      <td>-3.300012</td>\n",
       "      <td>-0.003322</td>\n",
       "    </tr>\n",
       "    <tr>\n",
       "      <td>2010-01-11</td>\n",
       "      <td>-3.664966</td>\n",
       "      <td>-0.001396</td>\n",
       "    </tr>\n",
       "  </tbody>\n",
       "</table>\n",
       "</div>"
      ],
      "text/plain": [
       "                 PC1       SPY\n",
       "Date                          \n",
       "2010-01-05 -3.082268 -0.002644\n",
       "2010-01-06 -1.658736 -0.000704\n",
       "2010-01-07 -7.838046 -0.004212\n",
       "2010-01-08 -3.300012 -0.003322\n",
       "2010-01-11 -3.664966 -0.001396"
      ]
     },
     "execution_count": 22,
     "metadata": {},
     "output_type": "execute_result"
    }
   ],
   "source": [
    "joined.rename(columns={'Close': 'SPY'}).head()"
   ]
  },
  {
   "cell_type": "code",
   "execution_count": 23,
   "metadata": {},
   "outputs": [
    {
     "name": "stderr",
     "output_type": "stream",
     "text": [
      "C:\\Users\\AButa\\Anaconda3\\lib\\site-packages\\ipykernel_launcher.py:2: FutureWarning: \n",
      "Passing list-likes to .loc or [] with any missing label will raise\n",
      "KeyError in the future, you can use .reindex() as an alternative.\n",
      "\n",
      "See the documentation here:\n",
      "https://pandas.pydata.org/pandas-docs/stable/user_guide/indexing.html#deprecate-loc-reindex-listlike\n",
      "  \n"
     ]
    },
    {
     "data": {
      "text/html": [
       "<div>\n",
       "<style scoped>\n",
       "    .dataframe tbody tr th:only-of-type {\n",
       "        vertical-align: middle;\n",
       "    }\n",
       "\n",
       "    .dataframe tbody tr th {\n",
       "        vertical-align: top;\n",
       "    }\n",
       "\n",
       "    .dataframe thead th {\n",
       "        text-align: right;\n",
       "    }\n",
       "</style>\n",
       "<table border=\"1\" class=\"dataframe\">\n",
       "  <thead>\n",
       "    <tr style=\"text-align: right;\">\n",
       "      <th></th>\n",
       "      <th>PC1</th>\n",
       "      <th>Close</th>\n",
       "    </tr>\n",
       "    <tr>\n",
       "      <th>Date</th>\n",
       "      <th></th>\n",
       "      <th></th>\n",
       "    </tr>\n",
       "  </thead>\n",
       "  <tbody>\n",
       "    <tr>\n",
       "      <td>2010-01-05</td>\n",
       "      <td>-0.241567</td>\n",
       "      <td>-0.243289</td>\n",
       "    </tr>\n",
       "    <tr>\n",
       "      <td>2010-01-06</td>\n",
       "      <td>-0.130001</td>\n",
       "      <td>-0.037909</td>\n",
       "    </tr>\n",
       "    <tr>\n",
       "      <td>2010-01-07</td>\n",
       "      <td>-0.614294</td>\n",
       "      <td>-0.409391</td>\n",
       "    </tr>\n",
       "    <tr>\n",
       "      <td>2010-01-08</td>\n",
       "      <td>-0.258633</td>\n",
       "      <td>-0.315142</td>\n",
       "    </tr>\n",
       "    <tr>\n",
       "      <td>2010-01-11</td>\n",
       "      <td>-0.287235</td>\n",
       "      <td>-0.111152</td>\n",
       "    </tr>\n",
       "  </tbody>\n",
       "</table>\n",
       "</div>"
      ],
      "text/plain": [
       "                 PC1     Close\n",
       "Date                          \n",
       "2010-01-05 -0.241567 -0.243289\n",
       "2010-01-06 -0.130001 -0.037909\n",
       "2010-01-07 -0.614294 -0.409391\n",
       "2010-01-08 -0.258633 -0.315142\n",
       "2010-01-11 -0.287235 -0.111152"
      ]
     },
     "execution_count": 23,
     "metadata": {},
     "output_type": "execute_result"
    }
   ],
   "source": [
    "scaler2 = StandardScaler()\n",
    "joined[['PC1', 'SPY']] = scaler2.fit_transform(joined)\n",
    "joined.head()"
   ]
  },
  {
   "cell_type": "code",
   "execution_count": 24,
   "metadata": {},
   "outputs": [
    {
     "data": {
      "text/plain": [
       "<matplotlib.axes._subplots.AxesSubplot at 0x2903cbe26c8>"
      ]
     },
     "execution_count": 24,
     "metadata": {},
     "output_type": "execute_result"
    },
    {
     "data": {
      "image/png": "[encoded data removed]",
      "text/plain": [
       "<Figure size 720x360 with 1 Axes>"
      ]
     },
     "metadata": {
      "needs_background": "light"
     },
     "output_type": "display_data"
    }
   ],
   "source": [
    "joined.plot(figsize=(10, 5), alpha=0.7)\n",
    "\n",
    "# very closely matches, CAPM was right"
   ]
  },
  {
   "cell_type": "code",
   "execution_count": null,
   "metadata": {},
   "outputs": [],
   "source": []
  }
 ],
 "metadata": {
  "kernelspec": {
   "display_name": "Python 3",
   "language": "python",
   "name": "python3"
  },
  "language_info": {
   "codemirror_mode": {
    "name": "ipython",
    "version": 3
   },
   "file_extension": ".py",
   "mimetype": "text/x-python",
   "name": "python",
   "nbconvert_exporter": "python",
   "pygments_lexer": "ipython3",
   "version": "3.7.4"
  }
 },
 "nbformat": 4,
 "nbformat_minor": 2
}
