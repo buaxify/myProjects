{
 "cells": [
  {
   "cell_type": "markdown",
   "metadata": {},
   "source": [
    "# Artificial Neural Network (Classification)"
   ]
  },
  {
   "cell_type": "markdown",
   "metadata": {},
   "source": [
    "### Importing the libraries"
   ]
  },
  {
   "cell_type": "code",
   "execution_count": 1,
   "metadata": {},
   "outputs": [],
   "source": [
    "import numpy as np\n",
    "import pandas as pd\n",
    "import tensorflow as tf"
   ]
  },
  {
   "cell_type": "code",
   "execution_count": 2,
   "metadata": {},
   "outputs": [
    {
     "data": {
      "text/plain": [
       "'2.1.0'"
      ]
     },
     "execution_count": 2,
     "metadata": {},
     "output_type": "execute_result"
    }
   ],
   "source": [
    "tf.__version__"
   ]
  },
  {
   "cell_type": "markdown",
   "metadata": {},
   "source": [
    "## Part 1 - Data Preprocessing"
   ]
  },
  {
   "cell_type": "markdown",
   "metadata": {},
   "source": [
    "### Importing the dataset"
   ]
  },
  {
   "cell_type": "code",
   "execution_count": 3,
   "metadata": {},
   "outputs": [
    {
     "data": {
      "text/html": [
       "<div>\n",
       "<style scoped>\n",
       "    .dataframe tbody tr th:only-of-type {\n",
       "        vertical-align: middle;\n",
       "    }\n",
       "\n",
       "    .dataframe tbody tr th {\n",
       "        vertical-align: top;\n",
       "    }\n",
       "\n",
       "    .dataframe thead th {\n",
       "        text-align: right;\n",
       "    }\n",
       "</style>\n",
       "<table border=\"1\" class=\"dataframe\">\n",
       "  <thead>\n",
       "    <tr style=\"text-align: right;\">\n",
       "      <th></th>\n",
       "      <th>RowNumber</th>\n",
       "      <th>CustomerId</th>\n",
       "      <th>Surname</th>\n",
       "      <th>CreditScore</th>\n",
       "      <th>Geography</th>\n",
       "      <th>Gender</th>\n",
       "      <th>Age</th>\n",
       "      <th>Tenure</th>\n",
       "      <th>Balance</th>\n",
       "      <th>NumOfProducts</th>\n",
       "      <th>HasCrCard</th>\n",
       "      <th>IsActiveMember</th>\n",
       "      <th>EstimatedSalary</th>\n",
       "      <th>Exited</th>\n",
       "    </tr>\n",
       "  </thead>\n",
       "  <tbody>\n",
       "    <tr>\n",
       "      <th>0</th>\n",
       "      <td>1</td>\n",
       "      <td>15634602</td>\n",
       "      <td>Hargrave</td>\n",
       "      <td>619</td>\n",
       "      <td>France</td>\n",
       "      <td>Female</td>\n",
       "      <td>42</td>\n",
       "      <td>2</td>\n",
       "      <td>0.00</td>\n",
       "      <td>1</td>\n",
       "      <td>1</td>\n",
       "      <td>1</td>\n",
       "      <td>101348.88</td>\n",
       "      <td>1</td>\n",
       "    </tr>\n",
       "    <tr>\n",
       "      <th>1</th>\n",
       "      <td>2</td>\n",
       "      <td>15647311</td>\n",
       "      <td>Hill</td>\n",
       "      <td>608</td>\n",
       "      <td>Spain</td>\n",
       "      <td>Female</td>\n",
       "      <td>41</td>\n",
       "      <td>1</td>\n",
       "      <td>83807.86</td>\n",
       "      <td>1</td>\n",
       "      <td>0</td>\n",
       "      <td>1</td>\n",
       "      <td>112542.58</td>\n",
       "      <td>0</td>\n",
       "    </tr>\n",
       "    <tr>\n",
       "      <th>2</th>\n",
       "      <td>3</td>\n",
       "      <td>15619304</td>\n",
       "      <td>Onio</td>\n",
       "      <td>502</td>\n",
       "      <td>France</td>\n",
       "      <td>Female</td>\n",
       "      <td>42</td>\n",
       "      <td>8</td>\n",
       "      <td>159660.80</td>\n",
       "      <td>3</td>\n",
       "      <td>1</td>\n",
       "      <td>0</td>\n",
       "      <td>113931.57</td>\n",
       "      <td>1</td>\n",
       "    </tr>\n",
       "    <tr>\n",
       "      <th>3</th>\n",
       "      <td>4</td>\n",
       "      <td>15701354</td>\n",
       "      <td>Boni</td>\n",
       "      <td>699</td>\n",
       "      <td>France</td>\n",
       "      <td>Female</td>\n",
       "      <td>39</td>\n",
       "      <td>1</td>\n",
       "      <td>0.00</td>\n",
       "      <td>2</td>\n",
       "      <td>0</td>\n",
       "      <td>0</td>\n",
       "      <td>93826.63</td>\n",
       "      <td>0</td>\n",
       "    </tr>\n",
       "    <tr>\n",
       "      <th>4</th>\n",
       "      <td>5</td>\n",
       "      <td>15737888</td>\n",
       "      <td>Mitchell</td>\n",
       "      <td>850</td>\n",
       "      <td>Spain</td>\n",
       "      <td>Female</td>\n",
       "      <td>43</td>\n",
       "      <td>2</td>\n",
       "      <td>125510.82</td>\n",
       "      <td>1</td>\n",
       "      <td>1</td>\n",
       "      <td>1</td>\n",
       "      <td>79084.10</td>\n",
       "      <td>0</td>\n",
       "    </tr>\n",
       "  </tbody>\n",
       "</table>\n",
       "</div>"
      ],
      "text/plain": [
       "   RowNumber  CustomerId   Surname  CreditScore Geography  Gender  Age  \\\n",
       "0          1    15634602  Hargrave          619    France  Female   42   \n",
       "1          2    15647311      Hill          608     Spain  Female   41   \n",
       "2          3    15619304      Onio          502    France  Female   42   \n",
       "3          4    15701354      Boni          699    France  Female   39   \n",
       "4          5    15737888  Mitchell          850     Spain  Female   43   \n",
       "\n",
       "   Tenure    Balance  NumOfProducts  HasCrCard  IsActiveMember  \\\n",
       "0       2       0.00              1          1               1   \n",
       "1       1   83807.86              1          0               1   \n",
       "2       8  159660.80              3          1               0   \n",
       "3       1       0.00              2          0               0   \n",
       "4       2  125510.82              1          1               1   \n",
       "\n",
       "   EstimatedSalary  Exited  \n",
       "0        101348.88       1  \n",
       "1        112542.58       0  \n",
       "2        113931.57       1  \n",
       "3         93826.63       0  \n",
       "4         79084.10       0  "
      ]
     },
     "metadata": {},
     "output_type": "display_data"
    },
    {
     "data": {
      "text/html": [
       "<div>\n",
       "<style scoped>\n",
       "    .dataframe tbody tr th:only-of-type {\n",
       "        vertical-align: middle;\n",
       "    }\n",
       "\n",
       "    .dataframe tbody tr th {\n",
       "        vertical-align: top;\n",
       "    }\n",
       "\n",
       "    .dataframe thead th {\n",
       "        text-align: right;\n",
       "    }\n",
       "</style>\n",
       "<table border=\"1\" class=\"dataframe\">\n",
       "  <thead>\n",
       "    <tr style=\"text-align: right;\">\n",
       "      <th></th>\n",
       "      <th>CreditScore</th>\n",
       "      <th>Geography</th>\n",
       "      <th>Gender</th>\n",
       "      <th>Age</th>\n",
       "      <th>Tenure</th>\n",
       "      <th>Balance</th>\n",
       "      <th>NumOfProducts</th>\n",
       "      <th>HasCrCard</th>\n",
       "      <th>IsActiveMember</th>\n",
       "      <th>EstimatedSalary</th>\n",
       "    </tr>\n",
       "  </thead>\n",
       "  <tbody>\n",
       "    <tr>\n",
       "      <th>0</th>\n",
       "      <td>619</td>\n",
       "      <td>France</td>\n",
       "      <td>Female</td>\n",
       "      <td>42</td>\n",
       "      <td>2</td>\n",
       "      <td>0.00</td>\n",
       "      <td>1</td>\n",
       "      <td>1</td>\n",
       "      <td>1</td>\n",
       "      <td>101348.88</td>\n",
       "    </tr>\n",
       "    <tr>\n",
       "      <th>1</th>\n",
       "      <td>608</td>\n",
       "      <td>Spain</td>\n",
       "      <td>Female</td>\n",
       "      <td>41</td>\n",
       "      <td>1</td>\n",
       "      <td>83807.86</td>\n",
       "      <td>1</td>\n",
       "      <td>0</td>\n",
       "      <td>1</td>\n",
       "      <td>112542.58</td>\n",
       "    </tr>\n",
       "    <tr>\n",
       "      <th>2</th>\n",
       "      <td>502</td>\n",
       "      <td>France</td>\n",
       "      <td>Female</td>\n",
       "      <td>42</td>\n",
       "      <td>8</td>\n",
       "      <td>159660.80</td>\n",
       "      <td>3</td>\n",
       "      <td>1</td>\n",
       "      <td>0</td>\n",
       "      <td>113931.57</td>\n",
       "    </tr>\n",
       "    <tr>\n",
       "      <th>3</th>\n",
       "      <td>699</td>\n",
       "      <td>France</td>\n",
       "      <td>Female</td>\n",
       "      <td>39</td>\n",
       "      <td>1</td>\n",
       "      <td>0.00</td>\n",
       "      <td>2</td>\n",
       "      <td>0</td>\n",
       "      <td>0</td>\n",
       "      <td>93826.63</td>\n",
       "    </tr>\n",
       "    <tr>\n",
       "      <th>4</th>\n",
       "      <td>850</td>\n",
       "      <td>Spain</td>\n",
       "      <td>Female</td>\n",
       "      <td>43</td>\n",
       "      <td>2</td>\n",
       "      <td>125510.82</td>\n",
       "      <td>1</td>\n",
       "      <td>1</td>\n",
       "      <td>1</td>\n",
       "      <td>79084.10</td>\n",
       "    </tr>\n",
       "  </tbody>\n",
       "</table>\n",
       "</div>"
      ],
      "text/plain": [
       "   CreditScore Geography  Gender  Age  Tenure    Balance  NumOfProducts  \\\n",
       "0          619    France  Female   42       2       0.00              1   \n",
       "1          608     Spain  Female   41       1   83807.86              1   \n",
       "2          502    France  Female   42       8  159660.80              3   \n",
       "3          699    France  Female   39       1       0.00              2   \n",
       "4          850     Spain  Female   43       2  125510.82              1   \n",
       "\n",
       "   HasCrCard  IsActiveMember  EstimatedSalary  \n",
       "0          1               1        101348.88  \n",
       "1          0               1        112542.58  \n",
       "2          1               0        113931.57  \n",
       "3          0               0         93826.63  \n",
       "4          1               1         79084.10  "
      ]
     },
     "metadata": {},
     "output_type": "display_data"
    },
    {
     "data": {
      "text/plain": [
       "0    1\n",
       "1    0\n",
       "2    1\n",
       "3    0\n",
       "4    0\n",
       "Name: Exited, dtype: int64"
      ]
     },
     "metadata": {},
     "output_type": "display_data"
    }
   ],
   "source": [
    "dataset = pd.read_csv('Churn_Modelling.csv')\n",
    "display(dataset.head())\n",
    "\n",
    "X_df = dataset.iloc[:, 3:-1] # every rows, every columns except last and irrelevant ones\n",
    "display(X_df.head())\n",
    "\n",
    "y_df = dataset.iloc[:, -1] # every rows, only last column\n",
    "display(y_df.head())\n",
    "\n",
    "X = X_df.values\n",
    "y = y_df.values"
   ]
  },
  {
   "cell_type": "markdown",
   "metadata": {},
   "source": [
    "### Encoding categorical data"
   ]
  },
  {
   "cell_type": "markdown",
   "metadata": {},
   "source": [
    "#### Label Encoding the \"Gender\" column"
   ]
  },
  {
   "cell_type": "code",
   "execution_count": 4,
   "metadata": {},
   "outputs": [
    {
     "name": "stdout",
     "output_type": "stream",
     "text": [
      "[[619 'France' 0 ... 1 1 101348.88]\n",
      " [608 'Spain' 0 ... 0 1 112542.58]\n",
      " [502 'France' 0 ... 1 0 113931.57]\n",
      " ...\n",
      " [709 'France' 0 ... 0 1 42085.58]\n",
      " [772 'Germany' 1 ... 1 0 92888.52]\n",
      " [792 'France' 0 ... 1 0 38190.78]]\n"
     ]
    }
   ],
   "source": [
    "from sklearn.preprocessing import LabelEncoder, OneHotEncoder\n",
    "from sklearn.compose import ColumnTransformer\n",
    "\n",
    "labelencoder_X = LabelEncoder() #assign numerical values to categorical values (ex: countries, cities, gender...)\n",
    "X[:, 2] = labelencoder_X.fit_transform(X[:, 2])\n",
    "print(X)"
   ]
  },
  {
   "cell_type": "markdown",
   "metadata": {},
   "source": [
    "#### One Hot Encoding the \"Geography\" column"
   ]
  },
  {
   "cell_type": "code",
   "execution_count": 5,
   "metadata": {},
   "outputs": [
    {
     "name": "stdout",
     "output_type": "stream",
     "text": [
      "[[1.0 0.0 0.0 ... 1 1 101348.88]\n",
      " [0.0 0.0 1.0 ... 0 1 112542.58]\n",
      " [1.0 0.0 0.0 ... 1 0 113931.57]\n",
      " ...\n",
      " [1.0 0.0 0.0 ... 0 1 42085.58]\n",
      " [0.0 1.0 0.0 ... 1 0 92888.52]\n",
      " [1.0 0.0 0.0 ... 1 0 38190.78]]\n"
     ]
    }
   ],
   "source": [
    "# creates column for each categorical value, each row where categorical value applies --> 1, else 0\n",
    "ct = ColumnTransformer(transformers=[('encoder', OneHotEncoder(), [1])], remainder='passthrough')\n",
    "X = np.array(ct.fit_transform(X))\n",
    "\n",
    "\n",
    "\n",
    "print(X)"
   ]
  },
  {
   "cell_type": "code",
   "execution_count": 6,
   "metadata": {},
   "outputs": [
    {
     "data": {
      "text/html": [
       "<div>\n",
       "<style scoped>\n",
       "    .dataframe tbody tr th:only-of-type {\n",
       "        vertical-align: middle;\n",
       "    }\n",
       "\n",
       "    .dataframe tbody tr th {\n",
       "        vertical-align: top;\n",
       "    }\n",
       "\n",
       "    .dataframe thead th {\n",
       "        text-align: right;\n",
       "    }\n",
       "</style>\n",
       "<table border=\"1\" class=\"dataframe\">\n",
       "  <thead>\n",
       "    <tr style=\"text-align: right;\">\n",
       "      <th></th>\n",
       "      <th>France</th>\n",
       "      <th>Germany</th>\n",
       "      <th>Spain</th>\n",
       "      <th>CreditScore</th>\n",
       "      <th>Gender</th>\n",
       "      <th>Age</th>\n",
       "      <th>Tenure</th>\n",
       "      <th>Balance</th>\n",
       "      <th>NumOfProducts</th>\n",
       "      <th>HasCrCard</th>\n",
       "      <th>IsActiveMember</th>\n",
       "      <th>EstimatedSalary</th>\n",
       "    </tr>\n",
       "  </thead>\n",
       "  <tbody>\n",
       "    <tr>\n",
       "      <th>0</th>\n",
       "      <td>1</td>\n",
       "      <td>0</td>\n",
       "      <td>0</td>\n",
       "      <td>619</td>\n",
       "      <td>0</td>\n",
       "      <td>42</td>\n",
       "      <td>2</td>\n",
       "      <td>0</td>\n",
       "      <td>1</td>\n",
       "      <td>1</td>\n",
       "      <td>1</td>\n",
       "      <td>101349</td>\n",
       "    </tr>\n",
       "    <tr>\n",
       "      <th>1</th>\n",
       "      <td>0</td>\n",
       "      <td>0</td>\n",
       "      <td>1</td>\n",
       "      <td>608</td>\n",
       "      <td>0</td>\n",
       "      <td>41</td>\n",
       "      <td>1</td>\n",
       "      <td>83807.9</td>\n",
       "      <td>1</td>\n",
       "      <td>0</td>\n",
       "      <td>1</td>\n",
       "      <td>112543</td>\n",
       "    </tr>\n",
       "    <tr>\n",
       "      <th>2</th>\n",
       "      <td>1</td>\n",
       "      <td>0</td>\n",
       "      <td>0</td>\n",
       "      <td>502</td>\n",
       "      <td>0</td>\n",
       "      <td>42</td>\n",
       "      <td>8</td>\n",
       "      <td>159661</td>\n",
       "      <td>3</td>\n",
       "      <td>1</td>\n",
       "      <td>0</td>\n",
       "      <td>113932</td>\n",
       "    </tr>\n",
       "    <tr>\n",
       "      <th>3</th>\n",
       "      <td>1</td>\n",
       "      <td>0</td>\n",
       "      <td>0</td>\n",
       "      <td>699</td>\n",
       "      <td>0</td>\n",
       "      <td>39</td>\n",
       "      <td>1</td>\n",
       "      <td>0</td>\n",
       "      <td>2</td>\n",
       "      <td>0</td>\n",
       "      <td>0</td>\n",
       "      <td>93826.6</td>\n",
       "    </tr>\n",
       "    <tr>\n",
       "      <th>4</th>\n",
       "      <td>0</td>\n",
       "      <td>0</td>\n",
       "      <td>1</td>\n",
       "      <td>850</td>\n",
       "      <td>0</td>\n",
       "      <td>43</td>\n",
       "      <td>2</td>\n",
       "      <td>125511</td>\n",
       "      <td>1</td>\n",
       "      <td>1</td>\n",
       "      <td>1</td>\n",
       "      <td>79084.1</td>\n",
       "    </tr>\n",
       "  </tbody>\n",
       "</table>\n",
       "</div>"
      ],
      "text/plain": [
       "  France Germany Spain CreditScore Gender Age Tenure  Balance NumOfProducts  \\\n",
       "0      1       0     0         619      0  42      2        0             1   \n",
       "1      0       0     1         608      0  41      1  83807.9             1   \n",
       "2      1       0     0         502      0  42      8   159661             3   \n",
       "3      1       0     0         699      0  39      1        0             2   \n",
       "4      0       0     1         850      0  43      2   125511             1   \n",
       "\n",
       "  HasCrCard IsActiveMember EstimatedSalary  \n",
       "0         1              1          101349  \n",
       "1         0              1          112543  \n",
       "2         1              0          113932  \n",
       "3         0              0         93826.6  \n",
       "4         1              1         79084.1  "
      ]
     },
     "metadata": {},
     "output_type": "display_data"
    }
   ],
   "source": [
    "X_df2 = pd.DataFrame(X)\n",
    "X_df2.columns = ['France',\n",
    "                 'Germany',\n",
    "                 'Spain', \n",
    "                 X_df.columns[0], \n",
    "                 X_df.columns[2], \n",
    "                 X_df.columns[3], \n",
    "                 X_df.columns[4], \n",
    "                 X_df.columns[5], \n",
    "                 X_df.columns[6], \n",
    "                 X_df.columns[7], \n",
    "                 X_df.columns[8], \n",
    "                 X_df.columns[9]]\n",
    "\n",
    "display(X_df2.head())"
   ]
  },
  {
   "cell_type": "markdown",
   "metadata": {},
   "source": [
    "### Splitting the dataset into the Training set and Test set"
   ]
  },
  {
   "cell_type": "markdown",
   "metadata": {},
   "source": [
    "Training Dataset: The sample of data used to fit the model.\n",
    "The actual dataset that we use to train the model (weights and biases in the case of Neural Network). \n",
    "The model sees and learns from this data.\n",
    "\n",
    "Test Dataset: The sample of data used to provide an unbiased evaluation of a final model fit on the training dataset.\n",
    "provides the gold standard used to evaluate the model.\n",
    "only used once a model is completely trained\n",
    "contains carefully sampled data that spans the various classes that the model would face, when used in the real world.\n",
    "\n",
    "Split dataset into training set (X_train, y_train) and test set (X_test, y_test), \n",
    "test_size = proportion of the dataset to include in the test split\n"
   ]
  },
  {
   "cell_type": "code",
   "execution_count": 7,
   "metadata": {},
   "outputs": [],
   "source": [
    "from sklearn.model_selection import train_test_split\n",
    "\n",
    "X_train, X_test, y_train, y_test = train_test_split(X, y, test_size = 0.2) # 20% in test set"
   ]
  },
  {
   "cell_type": "markdown",
   "metadata": {},
   "source": [
    "### Feature Scaling"
   ]
  },
  {
   "cell_type": "code",
   "execution_count": 8,
   "metadata": {},
   "outputs": [],
   "source": [
    "from sklearn.preprocessing import StandardScaler\n",
    "sc_X = StandardScaler()\n",
    "X_train = sc_X.fit_transform(X_train)\n",
    "X_test = sc_X.transform(X_test)"
   ]
  },
  {
   "cell_type": "markdown",
   "metadata": {},
   "source": [
    "## Part 2 - Building the ANN"
   ]
  },
  {
   "cell_type": "markdown",
   "metadata": {},
   "source": [
    "### Initializing the ANN"
   ]
  },
  {
   "cell_type": "code",
   "execution_count": 9,
   "metadata": {},
   "outputs": [],
   "source": [
    "ann = tf.keras.models.Sequential()"
   ]
  },
  {
   "cell_type": "markdown",
   "metadata": {},
   "source": [
    "### Adding the input layer and the first hidden layer"
   ]
  },
  {
   "cell_type": "code",
   "execution_count": 10,
   "metadata": {},
   "outputs": [],
   "source": [
    "# units=number of neurons(Dataset columns(for input layer)) in first hidden layer\n",
    "# how many neurons to choose --> experiment --> 6 good number to start\n",
    "# activation funtion --> used to get the output of node -->to determine the output of neural network like yes or no. \n",
    "# ...It maps the resulting values in between 0 to 1 or -1 to 1 etc.\n",
    "# The rectified linear activation function is a piecewise linear function that will output the input directly if is positive, \n",
    "# ...otherwise, it will output zero. 'relu'\n",
    "ann.add(tf.keras.layers.Dense(units = 6, activation = 'relu'))"
   ]
  },
  {
   "cell_type": "markdown",
   "metadata": {},
   "source": [
    "### Adding the second hidden layer"
   ]
  },
  {
   "cell_type": "code",
   "execution_count": 11,
   "metadata": {},
   "outputs": [],
   "source": [
    "# units=number of neurons(Dataset columns(for input layer)) in first hidden layer\n",
    "# how many neurons to choose --> experiment --> 6 good number to start\n",
    "# activation funtion --> used to get the output of node -->to determine the output of neural network like yes or no. \n",
    "# ...It maps the resulting values in between 0 to 1 or -1 to 1 etc.\n",
    "# The rectified linear activation function is a piecewise linear function that will output the input directly if is positive, \n",
    "# ...otherwise, it will output zero. 'relu'\n",
    "ann.add(tf.keras.layers.Dense(units = 6, activation = 'relu'))"
   ]
  },
  {
   "cell_type": "markdown",
   "metadata": {},
   "source": [
    "### Adding the output layer"
   ]
  },
  {
   "cell_type": "code",
   "execution_count": 12,
   "metadata": {},
   "outputs": [],
   "source": [
    "# output = exited feature, binary output only requires one output neuron\n",
    "# sigmoid activation function allowed to get predictions + probability that binary outcome = 1 --> customer leaves bank\n",
    "ann.add(tf.keras.layers.Dense(units = 1, activation = 'sigmoid'))"
   ]
  },
  {
   "cell_type": "markdown",
   "metadata": {},
   "source": [
    "## Part 3 - Training the ANN"
   ]
  },
  {
   "cell_type": "markdown",
   "metadata": {},
   "source": [
    "### Compiling the ANN"
   ]
  },
  {
   "cell_type": "code",
   "execution_count": 13,
   "metadata": {},
   "outputs": [],
   "source": [
    "# The ANN needs to be compiled with an optimizer function and a loss function before being trained\n",
    "# an optimizer function for the network, \n",
    "# ....There are several types of optimizers and the choice depends on the nature of the problem\n",
    "# Loss: used for calculating the losses and errors.\n",
    "# There are several types and the choice depends on the nature of the problem.\n",
    "# Metrics: the metric used to measure the accuracy of the model\n",
    "\n",
    "# adam: --> optimizer performing stochastic gradient descent \n",
    "# ...(update weight --> reduce loss error between prediction and real results)\n",
    "# binary --> loss: 'binary_crossentropy', otherwise 'crossentropy'\n",
    "# possibility to choose several metrics at the same time --> list\n",
    "\n",
    "ann.compile(optimizer = 'adam', loss = 'binary_crossentropy', metrics = ['accuracy'])"
   ]
  },
  {
   "cell_type": "markdown",
   "metadata": {},
   "source": [
    "### Training the ANN on the Training set"
   ]
  },
  {
   "cell_type": "code",
   "execution_count": 14,
   "metadata": {},
   "outputs": [
    {
     "name": "stdout",
     "output_type": "stream",
     "text": [
      "Train on 8000 samples\n",
      "Epoch 1/100\n",
      "8000/8000 [==============================] - 1s 150us/sample - loss: 0.5420 - accuracy: 0.7884\n",
      "Epoch 2/100\n",
      "8000/8000 [==============================] - 0s 53us/sample - loss: 0.4679 - accuracy: 0.8070\n",
      "Epoch 3/100\n",
      "8000/8000 [==============================] - 0s 50us/sample - loss: 0.4397 - accuracy: 0.8089\n",
      "Epoch 4/100\n",
      "8000/8000 [==============================] - 0s 53us/sample - loss: 0.4270 - accuracy: 0.8148\n",
      "Epoch 5/100\n",
      "8000/8000 [==============================] - 0s 48us/sample - loss: 0.4200 - accuracy: 0.8177\n",
      "Epoch 6/100\n",
      "8000/8000 [==============================] - 0s 52us/sample - loss: 0.4150 - accuracy: 0.8189\n",
      "Epoch 7/100\n",
      "8000/8000 [==============================] - 0s 52us/sample - loss: 0.4106 - accuracy: 0.8223\n",
      "Epoch 8/100\n",
      "8000/8000 [==============================] - 0s 55us/sample - loss: 0.4066 - accuracy: 0.8248\n",
      "Epoch 9/100\n",
      "8000/8000 [==============================] - 0s 50us/sample - loss: 0.4030 - accuracy: 0.8250\n",
      "Epoch 10/100\n",
      "8000/8000 [==============================] - 0s 49us/sample - loss: 0.3995 - accuracy: 0.8267\n",
      "Epoch 11/100\n",
      "8000/8000 [==============================] - 0s 55us/sample - loss: 0.3966 - accuracy: 0.8275\n",
      "Epoch 12/100\n",
      "8000/8000 [==============================] - 0s 52us/sample - loss: 0.3927 - accuracy: 0.8278\n",
      "Epoch 13/100\n",
      "8000/8000 [==============================] - 0s 48us/sample - loss: 0.3884 - accuracy: 0.8316\n",
      "Epoch 14/100\n",
      "8000/8000 [==============================] - 0s 52us/sample - loss: 0.3821 - accuracy: 0.8380\n",
      "Epoch 15/100\n",
      "8000/8000 [==============================] - 0s 51us/sample - loss: 0.3734 - accuracy: 0.8472\n",
      "Epoch 16/100\n",
      "8000/8000 [==============================] - 0s 46us/sample - loss: 0.3652 - accuracy: 0.8514\n",
      "Epoch 17/100\n",
      "8000/8000 [==============================] - 0s 53us/sample - loss: 0.3588 - accuracy: 0.8537\n",
      "Epoch 18/100\n",
      "8000/8000 [==============================] - 0s 49us/sample - loss: 0.3543 - accuracy: 0.8537\n",
      "Epoch 19/100\n",
      "8000/8000 [==============================] - 0s 49us/sample - loss: 0.3509 - accuracy: 0.8558\n",
      "Epoch 20/100\n",
      "8000/8000 [==============================] - 0s 50us/sample - loss: 0.3487 - accuracy: 0.8575\n",
      "Epoch 21/100\n",
      "8000/8000 [==============================] - 0s 51us/sample - loss: 0.3467 - accuracy: 0.8568\n",
      "Epoch 22/100\n",
      "8000/8000 [==============================] - 0s 48us/sample - loss: 0.3456 - accuracy: 0.8569\n",
      "Epoch 23/100\n",
      "8000/8000 [==============================] - 0s 49us/sample - loss: 0.3442 - accuracy: 0.8587\n",
      "Epoch 24/100\n",
      "8000/8000 [==============================] - 0s 50us/sample - loss: 0.3435 - accuracy: 0.8590\n",
      "Epoch 25/100\n",
      "8000/8000 [==============================] - 0s 48us/sample - loss: 0.3434 - accuracy: 0.8597\n",
      "Epoch 26/100\n",
      "8000/8000 [==============================] - 0s 50us/sample - loss: 0.3426 - accuracy: 0.8581\n",
      "Epoch 27/100\n",
      "8000/8000 [==============================] - 0s 52us/sample - loss: 0.3421 - accuracy: 0.8583\n",
      "Epoch 28/100\n",
      "8000/8000 [==============================] - 0s 49us/sample - loss: 0.3419 - accuracy: 0.8591\n",
      "Epoch 29/100\n",
      "8000/8000 [==============================] - 0s 52us/sample - loss: 0.3417 - accuracy: 0.8587\n",
      "Epoch 30/100\n",
      "8000/8000 [==============================] - 0s 50us/sample - loss: 0.3408 - accuracy: 0.8596\n",
      "Epoch 31/100\n",
      "8000/8000 [==============================] - 0s 48us/sample - loss: 0.3406 - accuracy: 0.8589\n",
      "Epoch 32/100\n",
      "8000/8000 [==============================] - 0s 52us/sample - loss: 0.3402 - accuracy: 0.8599\n",
      "Epoch 33/100\n",
      "8000/8000 [==============================] - 0s 55us/sample - loss: 0.3400 - accuracy: 0.8608\n",
      "Epoch 34/100\n",
      "8000/8000 [==============================] - 0s 55us/sample - loss: 0.3391 - accuracy: 0.8612\n",
      "Epoch 35/100\n",
      "8000/8000 [==============================] - 0s 51us/sample - loss: 0.3394 - accuracy: 0.8612\n",
      "Epoch 36/100\n",
      "8000/8000 [==============================] - 0s 51us/sample - loss: 0.3387 - accuracy: 0.8611\n",
      "Epoch 37/100\n",
      "8000/8000 [==============================] - 0s 57us/sample - loss: 0.3382 - accuracy: 0.8604\n",
      "Epoch 38/100\n",
      "8000/8000 [==============================] - 1s 64us/sample - loss: 0.3382 - accuracy: 0.8602\n",
      "Epoch 39/100\n",
      "8000/8000 [==============================] - 0s 62us/sample - loss: 0.3381 - accuracy: 0.8611\n",
      "Epoch 40/100\n",
      "8000/8000 [==============================] - 1s 64us/sample - loss: 0.3377 - accuracy: 0.8608\n",
      "Epoch 41/100\n",
      "8000/8000 [==============================] - 0s 49us/sample - loss: 0.3373 - accuracy: 0.8627\n",
      "Epoch 42/100\n",
      "8000/8000 [==============================] - 0s 60us/sample - loss: 0.3376 - accuracy: 0.8622\n",
      "Epoch 43/100\n",
      "8000/8000 [==============================] - 0s 56us/sample - loss: 0.3370 - accuracy: 0.8633s - loss: 0.3246 - accu\n",
      "Epoch 44/100\n",
      "8000/8000 [==============================] - 0s 52us/sample - loss: 0.3370 - accuracy: 0.8635\n",
      "Epoch 45/100\n",
      "8000/8000 [==============================] - 0s 55us/sample - loss: 0.3366 - accuracy: 0.8627\n",
      "Epoch 46/100\n",
      "8000/8000 [==============================] - 0s 57us/sample - loss: 0.3366 - accuracy: 0.8631\n",
      "Epoch 47/100\n",
      "8000/8000 [==============================] - 0s 56us/sample - loss: 0.3366 - accuracy: 0.8639\n",
      "Epoch 48/100\n",
      "8000/8000 [==============================] - 0s 55us/sample - loss: 0.3360 - accuracy: 0.8630\n",
      "Epoch 49/100\n",
      "8000/8000 [==============================] - 0s 53us/sample - loss: 0.3357 - accuracy: 0.8629\n",
      "Epoch 50/100\n",
      "8000/8000 [==============================] - 0s 58us/sample - loss: 0.3359 - accuracy: 0.8635\n",
      "Epoch 51/100\n",
      "8000/8000 [==============================] - 1s 63us/sample - loss: 0.3357 - accuracy: 0.8637\n",
      "Epoch 52/100\n",
      "8000/8000 [==============================] - 0s 56us/sample - loss: 0.3355 - accuracy: 0.8636\n",
      "Epoch 53/100\n",
      "8000/8000 [==============================] - 0s 55us/sample - loss: 0.3353 - accuracy: 0.8656\n",
      "Epoch 54/100\n",
      "8000/8000 [==============================] - 0s 51us/sample - loss: 0.3351 - accuracy: 0.8655\n",
      "Epoch 55/100\n",
      "8000/8000 [==============================] - 0s 54us/sample - loss: 0.3347 - accuracy: 0.8643\n",
      "Epoch 56/100\n",
      "8000/8000 [==============================] - 0s 54us/sample - loss: 0.3347 - accuracy: 0.8646\n",
      "Epoch 57/100\n",
      "8000/8000 [==============================] - 0s 48us/sample - loss: 0.3343 - accuracy: 0.8644\n",
      "Epoch 58/100\n",
      "8000/8000 [==============================] - 0s 54us/sample - loss: 0.3346 - accuracy: 0.8650\n",
      "Epoch 59/100\n",
      "8000/8000 [==============================] - 0s 52us/sample - loss: 0.3340 - accuracy: 0.8648s - loss: 0.3358 - ac\n",
      "Epoch 60/100\n",
      "8000/8000 [==============================] - 0s 52us/sample - loss: 0.3340 - accuracy: 0.8655\n",
      "Epoch 61/100\n",
      "8000/8000 [==============================] - 0s 53us/sample - loss: 0.3336 - accuracy: 0.8656\n",
      "Epoch 62/100\n",
      "8000/8000 [==============================] - 0s 54us/sample - loss: 0.3334 - accuracy: 0.8645\n",
      "Epoch 63/100\n",
      "8000/8000 [==============================] - 0s 51us/sample - loss: 0.3332 - accuracy: 0.8643\n",
      "Epoch 64/100\n",
      "8000/8000 [==============================] - 0s 52us/sample - loss: 0.3334 - accuracy: 0.8664\n",
      "Epoch 65/100\n",
      "8000/8000 [==============================] - 0s 52us/sample - loss: 0.3334 - accuracy: 0.8654\n",
      "Epoch 66/100\n",
      "8000/8000 [==============================] - 0s 52us/sample - loss: 0.3331 - accuracy: 0.8645\n",
      "Epoch 67/100\n",
      "8000/8000 [==============================] - 0s 53us/sample - loss: 0.3333 - accuracy: 0.8640\n",
      "Epoch 68/100\n",
      "8000/8000 [==============================] - 0s 54us/sample - loss: 0.3327 - accuracy: 0.8648\n",
      "Epoch 69/100\n",
      "8000/8000 [==============================] - 0s 56us/sample - loss: 0.3334 - accuracy: 0.8651\n",
      "Epoch 70/100\n",
      "8000/8000 [==============================] - 0s 56us/sample - loss: 0.3329 - accuracy: 0.8664\n",
      "Epoch 71/100\n",
      "8000/8000 [==============================] - 0s 51us/sample - loss: 0.3329 - accuracy: 0.8650\n",
      "Epoch 72/100\n",
      "8000/8000 [==============================] - 0s 52us/sample - loss: 0.3328 - accuracy: 0.8662\n",
      "Epoch 73/100\n",
      "8000/8000 [==============================] - 0s 59us/sample - loss: 0.3326 - accuracy: 0.8655\n",
      "Epoch 74/100\n",
      "8000/8000 [==============================] - 0s 60us/sample - loss: 0.3331 - accuracy: 0.8649\n",
      "Epoch 75/100\n",
      "8000/8000 [==============================] - 0s 60us/sample - loss: 0.3326 - accuracy: 0.8665\n",
      "Epoch 76/100\n",
      "8000/8000 [==============================] - 0s 51us/sample - loss: 0.3324 - accuracy: 0.8655\n",
      "Epoch 77/100\n"
     ]
    },
    {
     "name": "stdout",
     "output_type": "stream",
     "text": [
      "8000/8000 [==============================] - 0s 52us/sample - loss: 0.3323 - accuracy: 0.8668\n",
      "Epoch 78/100\n",
      "8000/8000 [==============================] - 0s 51us/sample - loss: 0.3327 - accuracy: 0.8651\n",
      "Epoch 79/100\n",
      "8000/8000 [==============================] - 0s 50us/sample - loss: 0.3327 - accuracy: 0.8650\n",
      "Epoch 80/100\n",
      "8000/8000 [==============================] - 0s 52us/sample - loss: 0.3323 - accuracy: 0.8654\n",
      "Epoch 81/100\n",
      "8000/8000 [==============================] - 0s 52us/sample - loss: 0.3330 - accuracy: 0.8654\n",
      "Epoch 82/100\n",
      "8000/8000 [==============================] - 0s 54us/sample - loss: 0.3323 - accuracy: 0.8651\n",
      "Epoch 83/100\n",
      "8000/8000 [==============================] - 0s 52us/sample - loss: 0.3326 - accuracy: 0.8674\n",
      "Epoch 84/100\n",
      "8000/8000 [==============================] - 0s 49us/sample - loss: 0.3324 - accuracy: 0.8646\n",
      "Epoch 85/100\n",
      "8000/8000 [==============================] - 0s 53us/sample - loss: 0.3322 - accuracy: 0.8656\n",
      "Epoch 86/100\n",
      "8000/8000 [==============================] - 0s 54us/sample - loss: 0.3324 - accuracy: 0.8658\n",
      "Epoch 87/100\n",
      "8000/8000 [==============================] - 0s 47us/sample - loss: 0.3322 - accuracy: 0.8660\n",
      "Epoch 88/100\n",
      "8000/8000 [==============================] - 0s 53us/sample - loss: 0.3323 - accuracy: 0.8659\n",
      "Epoch 89/100\n",
      "8000/8000 [==============================] - 0s 52us/sample - loss: 0.3322 - accuracy: 0.8664\n",
      "Epoch 90/100\n",
      "8000/8000 [==============================] - 0s 51us/sample - loss: 0.3320 - accuracy: 0.8658\n",
      "Epoch 91/100\n",
      "8000/8000 [==============================] - 0s 54us/sample - loss: 0.3322 - accuracy: 0.8660\n",
      "Epoch 92/100\n",
      "8000/8000 [==============================] - 0s 54us/sample - loss: 0.3321 - accuracy: 0.8654\n",
      "Epoch 93/100\n",
      "8000/8000 [==============================] - 0s 50us/sample - loss: 0.3322 - accuracy: 0.8660\n",
      "Epoch 94/100\n",
      "8000/8000 [==============================] - 0s 50us/sample - loss: 0.3318 - accuracy: 0.8650\n",
      "Epoch 95/100\n",
      "8000/8000 [==============================] - 0s 53us/sample - loss: 0.3317 - accuracy: 0.8658\n",
      "Epoch 96/100\n",
      "8000/8000 [==============================] - 0s 51us/sample - loss: 0.3322 - accuracy: 0.8652\n",
      "Epoch 97/100\n",
      "8000/8000 [==============================] - 0s 51us/sample - loss: 0.3317 - accuracy: 0.8651\n",
      "Epoch 98/100\n",
      "8000/8000 [==============================] - 0s 50us/sample - loss: 0.3317 - accuracy: 0.8660\n",
      "Epoch 99/100\n",
      "8000/8000 [==============================] - 0s 51us/sample - loss: 0.3312 - accuracy: 0.8661\n",
      "Epoch 100/100\n",
      "8000/8000 [==============================] - 0s 52us/sample - loss: 0.3318 - accuracy: 0.8654\n"
     ]
    },
    {
     "data": {
      "text/plain": [
       "<tensorflow.python.keras.callbacks.History at 0x2d24c6b5d88>"
      ]
     },
     "execution_count": 14,
     "metadata": {},
     "output_type": "execute_result"
    }
   ],
   "source": [
    "# batch learning = more efficient/performant in ANN training\n",
    "# rather than 1 by 1 prediction comparison --> batch per batch\n",
    "# classic batch_size value = 32\n",
    "ann.fit(X_train, y_train, batch_size = 32, epochs = 100)"
   ]
  },
  {
   "cell_type": "markdown",
   "metadata": {},
   "source": [
    "## Part 4 - Making the predictions and evaluating the model"
   ]
  },
  {
   "cell_type": "markdown",
   "metadata": {},
   "source": [
    "### Predicting the result of a single observation"
   ]
  },
  {
   "cell_type": "markdown",
   "metadata": {},
   "source": [
    "Use our ANN model to predict if the customer with the following informations will leave the bank: \n",
    "<br>Geography: France\n",
    "<br>Credit Score: 600\n",
    "<br>Gender: Male\n",
    "<br>Age: 40 years old\n",
    "<br>Tenure: 3 years\n",
    "<br>Balance:  USD 60000\n",
    "<br>Number of Products: 2\n",
    "<br>Does this customer have a credit card? Yes\n",
    "<br>Is this customer an Active Member: Yes\n",
    "<br>Estimated Salary: USD 50000\n",
    "<br>So, should we say goodbye to that customer?"
   ]
  },
  {
   "cell_type": "code",
   "execution_count": 15,
   "metadata": {},
   "outputs": [
    {
     "name": "stdout",
     "output_type": "stream",
     "text": [
      "[[False]]\n"
     ]
    }
   ],
   "source": [
    "print(ann.predict(sc_X.transform([[1, 0, 0, 600, 1, 40, 3, 60000, 2, 1, 1, 50000]])) > 0.5) # as output layer = probability"
   ]
  },
  {
   "cell_type": "markdown",
   "metadata": {},
   "source": [
    "Therefore, our ANN model predicts that this customer stays in the bank!\n",
    "\n",
    "Important note 1: Notice that the values of the features were all input in a double pair of square brackets. That's because the \"predict\" method always expects a 2D array as the format of its inputs. And putting our values into a double pair of square brackets makes the input exactly a 2D array.\n",
    "\n",
    "Important note 2: Notice also that the \"France\" country was not input as a string in the last column but as \"1, 0, 0\" in the first three columns. That's because of course the predict method expects the one-hot-encoded values of the state, and as we see in the first row of the matrix of features X, \"France\" was encoded as \"1, 0, 0\". And be careful to include these values in the first three columns, because the dummy variables are always created in the first columns."
   ]
  },
  {
   "cell_type": "markdown",
   "metadata": {},
   "source": [
    "### Predicting the Test set results"
   ]
  },
  {
   "cell_type": "code",
   "execution_count": 19,
   "metadata": {},
   "outputs": [
    {
     "data": {
      "text/html": [
       "<div>\n",
       "<style scoped>\n",
       "    .dataframe tbody tr th:only-of-type {\n",
       "        vertical-align: middle;\n",
       "    }\n",
       "\n",
       "    .dataframe tbody tr th {\n",
       "        vertical-align: top;\n",
       "    }\n",
       "\n",
       "    .dataframe thead th {\n",
       "        text-align: right;\n",
       "    }\n",
       "</style>\n",
       "<table border=\"1\" class=\"dataframe\">\n",
       "  <thead>\n",
       "    <tr style=\"text-align: right;\">\n",
       "      <th></th>\n",
       "      <th>y_pred</th>\n",
       "      <th>y_test</th>\n",
       "    </tr>\n",
       "  </thead>\n",
       "  <tbody>\n",
       "    <tr>\n",
       "      <th>0</th>\n",
       "      <td>0</td>\n",
       "      <td>0</td>\n",
       "    </tr>\n",
       "    <tr>\n",
       "      <th>1</th>\n",
       "      <td>0</td>\n",
       "      <td>0</td>\n",
       "    </tr>\n",
       "    <tr>\n",
       "      <th>2</th>\n",
       "      <td>0</td>\n",
       "      <td>1</td>\n",
       "    </tr>\n",
       "    <tr>\n",
       "      <th>3</th>\n",
       "      <td>0</td>\n",
       "      <td>1</td>\n",
       "    </tr>\n",
       "    <tr>\n",
       "      <th>4</th>\n",
       "      <td>0</td>\n",
       "      <td>0</td>\n",
       "    </tr>\n",
       "    <tr>\n",
       "      <th>...</th>\n",
       "      <td>...</td>\n",
       "      <td>...</td>\n",
       "    </tr>\n",
       "    <tr>\n",
       "      <th>1995</th>\n",
       "      <td>0</td>\n",
       "      <td>0</td>\n",
       "    </tr>\n",
       "    <tr>\n",
       "      <th>1996</th>\n",
       "      <td>0</td>\n",
       "      <td>0</td>\n",
       "    </tr>\n",
       "    <tr>\n",
       "      <th>1997</th>\n",
       "      <td>1</td>\n",
       "      <td>1</td>\n",
       "    </tr>\n",
       "    <tr>\n",
       "      <th>1998</th>\n",
       "      <td>0</td>\n",
       "      <td>0</td>\n",
       "    </tr>\n",
       "    <tr>\n",
       "      <th>1999</th>\n",
       "      <td>0</td>\n",
       "      <td>1</td>\n",
       "    </tr>\n",
       "  </tbody>\n",
       "</table>\n",
       "<p>2000 rows × 2 columns</p>\n",
       "</div>"
      ],
      "text/plain": [
       "      y_pred  y_test\n",
       "0          0       0\n",
       "1          0       0\n",
       "2          0       1\n",
       "3          0       1\n",
       "4          0       0\n",
       "...      ...     ...\n",
       "1995       0       0\n",
       "1996       0       0\n",
       "1997       1       1\n",
       "1998       0       0\n",
       "1999       0       1\n",
       "\n",
       "[2000 rows x 2 columns]"
      ]
     },
     "execution_count": 19,
     "metadata": {},
     "output_type": "execute_result"
    }
   ],
   "source": [
    "y_pred = ann.predict(X_test)\n",
    "y_pred = (y_pred > 0.5) # predicted binary outcome 0 or 1\n",
    "\n",
    "y_pred2y_test = pd.DataFrame(np.concatenate((y_pred.reshape(len(y_pred),1), y_test.reshape(len(y_test),1)),1))\n",
    "y_pred2y_test.columns = ['y_pred', 'y_test']\n",
    "y_pred2y_test"
   ]
  },
  {
   "cell_type": "markdown",
   "metadata": {},
   "source": [
    "### Making the Confusion Matrix"
   ]
  },
  {
   "cell_type": "code",
   "execution_count": 20,
   "metadata": {},
   "outputs": [
    {
     "name": "stdout",
     "output_type": "stream",
     "text": [
      "[[1527   55]\n",
      " [ 231  187]]\n",
      "\n",
      "The Model is 85.7% accurate\n"
     ]
    }
   ],
   "source": [
    "from sklearn.metrics import confusion_matrix, accuracy_score\n",
    "\n",
    "# Compute confusion matrix to evaluate the accuracy of a classification.\n",
    "\n",
    "cm = confusion_matrix(y_test, y_pred)\n",
    "\n",
    "print(cm)\n",
    "\n",
    "#accuracy = ((cm[0,0]+cm[1,1])/(cm[0,0]+cm[1,1]+cm[1,0]+cm[1,0]))* 100\n",
    "\n",
    "accuracy = accuracy_score(y_test, y_pred) *100\n",
    "\n",
    "# \\n = begin new paragraph\n",
    "\n",
    "print('\\nThe Model is {0}% accurate'.format(round(accuracy, 2)))"
   ]
  },
  {
   "cell_type": "markdown",
   "metadata": {},
   "source": [
    "An artificial neural network (ANN) is the piece of a computing system designed to simulate the way the human brain analyzes and processes information. It is the foundation of artificial intelligence (AI) and solves problems that would prove impossible or difficult by human or statistical standards. ANNs have self-learning capabilities that enable them to produce better results as more data becomes available."
   ]
  }
 ],
 "metadata": {
  "kernelspec": {
   "display_name": "Python 3",
   "language": "python",
   "name": "python3"
  },
  "language_info": {
   "codemirror_mode": {
    "name": "ipython",
    "version": 3
   },
   "file_extension": ".py",
   "mimetype": "text/x-python",
   "name": "python",
   "nbconvert_exporter": "python",
   "pygments_lexer": "ipython3",
   "version": "3.7.6"
  }
 },
 "nbformat": 4,
 "nbformat_minor": 2
}
