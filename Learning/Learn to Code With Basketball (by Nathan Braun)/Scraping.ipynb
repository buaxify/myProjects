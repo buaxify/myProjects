{
 "cells": [
  {
   "cell_type": "code",
   "id": "8edc5649",
   "metadata": {
    "ExecuteTime": {
     "end_time": "2024-08-07T13:15:26.057Z",
     "start_time": "2024-08-07T13:15:25.890942Z"
    }
   },
   "source": [
    "from bs4 import BeautifulSoup as Soup"
   ],
   "outputs": [],
   "execution_count": 1
  },
  {
   "cell_type": "code",
   "id": "ea76ce09",
   "metadata": {
    "ExecuteTime": {
     "end_time": "2024-08-07T13:15:26.064035Z",
     "start_time": "2024-08-07T13:15:26.059645Z"
    }
   },
   "source": [
    "table_html = \"\"\"\n",
    "<html>\n",
    "  <table>\n",
    "    <tr>\n",
    "     <th>Name</th>\n",
    "     <th>Date</th>\n",
    "     <th>Team</th>\n",
    "     <th>Opp</th>\n",
    "     <th>Pts</th>\n",
    "     <th>Reb</th>\n",
    "    </tr>\n",
    "    <tr>\n",
    "     <td>Lebron James</td>\n",
    "     <td>2019-10-22</td>\n",
    "     <td>LAL</td>\n",
    "     <td>LAC</td>\n",
    "     <td>18</td>\n",
    "     <td>10</td>\n",
    "    </tr>\n",
    "    <tr>\n",
    "     <td>Giannis Antetokounmpo</td>\n",
    "     <td>2020-10-06</td>\n",
    "     <td>MIL</td>\n",
    "     <td>SAN</td>\n",
    "     <td>24</td>\n",
    "     <td>12</td>\n",
    "    </tr>\n",
    "  </table>\n",
    "<html>\n",
    "\"\"\""
   ],
   "outputs": [],
   "execution_count": 2
  },
  {
   "cell_type": "code",
   "id": "4dfa61e8",
   "metadata": {
    "ExecuteTime": {
     "end_time": "2024-08-07T13:15:26.078614Z",
     "start_time": "2024-08-07T13:15:26.066128Z"
    }
   },
   "source": [
    "html_soup = Soup(table_html)\n",
    "\n",
    "tr_tag = html_soup.find('tr')\n",
    "tr_tag\n",
    "type(tr_tag)"
   ],
   "outputs": [
    {
     "data": {
      "text/plain": [
       "bs4.element.Tag"
      ]
     },
     "execution_count": 3,
     "metadata": {},
     "output_type": "execute_result"
    }
   ],
   "execution_count": 3
  },
  {
   "cell_type": "code",
   "id": "99ae840b",
   "metadata": {
    "ExecuteTime": {
     "end_time": "2024-08-07T13:15:26.087575Z",
     "start_time": "2024-08-07T13:15:26.080725Z"
    }
   },
   "source": [
    "table_tag = html_soup.find('table')\n",
    "type(table_tag)"
   ],
   "outputs": [
    {
     "data": {
      "text/plain": [
       "bs4.element.Tag"
      ]
     },
     "execution_count": 4,
     "metadata": {},
     "output_type": "execute_result"
    }
   ],
   "execution_count": 4
  },
  {
   "cell_type": "code",
   "id": "a0d5ff01",
   "metadata": {
    "ExecuteTime": {
     "end_time": "2024-08-07T13:15:26.097529Z",
     "start_time": "2024-08-07T13:15:26.091778Z"
    }
   },
   "source": [
    "td_tag = html_soup.find('td')\n",
    "td_tag\n",
    "type(td_tag)"
   ],
   "outputs": [
    {
     "data": {
      "text/plain": [
       "bs4.element.Tag"
      ]
     },
     "execution_count": 5,
     "metadata": {},
     "output_type": "execute_result"
    }
   ],
   "execution_count": 5
  },
  {
   "cell_type": "code",
   "id": "91a50696",
   "metadata": {
    "ExecuteTime": {
     "end_time": "2024-08-07T13:15:26.105769Z",
     "start_time": "2024-08-07T13:15:26.099541Z"
    }
   },
   "source": [
    "td_tag\n",
    "td_tag.string\n",
    "str(td_tag.string)"
   ],
   "outputs": [
    {
     "data": {
      "text/plain": [
       "'Lebron James'"
      ]
     },
     "execution_count": 6,
     "metadata": {},
     "output_type": "execute_result"
    }
   ],
   "execution_count": 6
  },
  {
   "cell_type": "code",
   "id": "2a314675",
   "metadata": {
    "ExecuteTime": {
     "end_time": "2024-08-07T13:15:26.114618Z",
     "start_time": "2024-08-07T13:15:26.106785Z"
    }
   },
   "source": [
    "tr_tag.find_all('th')\n",
    "\n",
    "[str(x.string) for x in tr_tag.find_all('th')]\n",
    "\n",
    "all_td_tags = table_tag.find_all('td')\n",
    "all_td_tags"
   ],
   "outputs": [
    {
     "data": {
      "text/plain": [
       "[<td>Lebron James</td>,\n",
       " <td>2019-10-22</td>,\n",
       " <td>LAL</td>,\n",
       " <td>LAC</td>,\n",
       " <td>18</td>,\n",
       " <td>10</td>,\n",
       " <td>Giannis Antetokounmpo</td>,\n",
       " <td>2020-10-06</td>,\n",
       " <td>MIL</td>,\n",
       " <td>SAN</td>,\n",
       " <td>24</td>,\n",
       " <td>12</td>]"
      ]
     },
     "execution_count": 7,
     "metadata": {},
     "output_type": "execute_result"
    }
   ],
   "execution_count": 7
  },
  {
   "cell_type": "code",
   "id": "2403f710",
   "metadata": {
    "ExecuteTime": {
     "end_time": "2024-08-07T13:15:26.124351Z",
     "start_time": "2024-08-07T13:15:26.115627Z"
    }
   },
   "source": [
    "all_rows = table_tag.find_all('tr')\n",
    "first_data_row = all_rows[1]  # 0 is header\n",
    "first_data_row.find_all('td')"
   ],
   "outputs": [
    {
     "data": {
      "text/plain": [
       "[<td>Lebron James</td>,\n",
       " <td>2019-10-22</td>,\n",
       " <td>LAL</td>,\n",
       " <td>LAC</td>,\n",
       " <td>18</td>,\n",
       " <td>10</td>]"
      ]
     },
     "execution_count": 8,
     "metadata": {},
     "output_type": "execute_result"
    }
   ],
   "execution_count": 8
  },
  {
   "cell_type": "code",
   "id": "eb0488e2",
   "metadata": {
    "ExecuteTime": {
     "end_time": "2024-08-07T13:15:26.135101Z",
     "start_time": "2024-08-07T13:15:26.126501Z"
    }
   },
   "source": [
    "all_td_and_th_tags = table_tag.find_all(('td', 'th'))\n",
    "all_td_and_th_tags"
   ],
   "outputs": [
    {
     "data": {
      "text/plain": [
       "[<th>Name</th>,\n",
       " <th>Date</th>,\n",
       " <th>Team</th>,\n",
       " <th>Opp</th>,\n",
       " <th>Pts</th>,\n",
       " <th>Reb</th>,\n",
       " <td>Lebron James</td>,\n",
       " <td>2019-10-22</td>,\n",
       " <td>LAL</td>,\n",
       " <td>LAC</td>,\n",
       " <td>18</td>,\n",
       " <td>10</td>,\n",
       " <td>Giannis Antetokounmpo</td>,\n",
       " <td>2020-10-06</td>,\n",
       " <td>MIL</td>,\n",
       " <td>SAN</td>,\n",
       " <td>24</td>,\n",
       " <td>12</td>]"
      ]
     },
     "execution_count": 9,
     "metadata": {},
     "output_type": "execute_result"
    }
   ],
   "execution_count": 9
  },
  {
   "cell_type": "code",
   "id": "5af122fc",
   "metadata": {
    "scrolled": true,
    "ExecuteTime": {
     "end_time": "2024-08-07T13:15:26.143733Z",
     "start_time": "2024-08-07T13:15:26.137112Z"
    }
   },
   "source": [
    "[str(x.string) for x in all_td_tags]"
   ],
   "outputs": [
    {
     "data": {
      "text/plain": [
       "['Lebron James',\n",
       " '2019-10-22',\n",
       " 'LAL',\n",
       " 'LAC',\n",
       " '18',\n",
       " '10',\n",
       " 'Giannis Antetokounmpo',\n",
       " '2020-10-06',\n",
       " 'MIL',\n",
       " 'SAN',\n",
       " '24',\n",
       " '12']"
      ]
     },
     "execution_count": 10,
     "metadata": {},
     "output_type": "execute_result"
    }
   ],
   "execution_count": 10
  },
  {
   "cell_type": "code",
   "id": "43d45452",
   "metadata": {
    "ExecuteTime": {
     "end_time": "2024-08-07T13:15:26.153982Z",
     "start_time": "2024-08-07T13:15:26.145257Z"
    }
   },
   "source": [
    "all_rows = table_tag.find_all('tr')\n",
    "list_of_td_lists = [x.find_all('td') for x in all_rows[1:]]\n",
    "list_of_td_lists"
   ],
   "outputs": [
    {
     "data": {
      "text/plain": [
       "[[<td>Lebron James</td>,\n",
       "  <td>2019-10-22</td>,\n",
       "  <td>LAL</td>,\n",
       "  <td>LAC</td>,\n",
       "  <td>18</td>,\n",
       "  <td>10</td>],\n",
       " [<td>Giannis Antetokounmpo</td>,\n",
       "  <td>2020-10-06</td>,\n",
       "  <td>MIL</td>,\n",
       "  <td>SAN</td>,\n",
       "  <td>24</td>,\n",
       "  <td>12</td>]]"
      ]
     },
     "execution_count": 11,
     "metadata": {},
     "output_type": "execute_result"
    }
   ],
   "execution_count": 11
  },
  {
   "cell_type": "code",
   "id": "4773561f",
   "metadata": {
    "ExecuteTime": {
     "end_time": "2024-08-07T13:15:26.159258Z",
     "start_time": "2024-08-07T13:15:26.154994Z"
    }
   },
   "source": [],
   "outputs": [],
   "execution_count": 11
  }
 ],
 "metadata": {
  "kernelspec": {
   "display_name": "Python 3 (ipykernel)",
   "language": "python",
   "name": "python3"
  },
  "language_info": {
   "codemirror_mode": {
    "name": "ipython",
    "version": 3
   },
   "file_extension": ".py",
   "mimetype": "text/x-python",
   "name": "python",
   "nbconvert_exporter": "python",
   "pygments_lexer": "ipython3",
   "version": "3.11.5"
  }
 },
 "nbformat": 4,
 "nbformat_minor": 5
}
