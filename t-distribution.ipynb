{
 "cells": [
  {
   "cell_type": "code",
   "execution_count": 1,
   "id": "46573a11",
   "metadata": {},
   "outputs": [],
   "source": [
    "from scipy.stats import t #careful! --> often short variable name in programming (easy to overwrite 't' with ex:loop index)"
   ]
  },
  {
   "cell_type": "code",
   "execution_count": null,
   "id": "d5afbc97",
   "metadata": {},
   "outputs": [],
   "source": [
    "x_list = np.linspace(\n",
    "    )"
   ]
  }
 ],
 "metadata": {
  "kernelspec": {
   "display_name": "Python 3 (ipykernel)",
   "language": "python",
   "name": "python3"
  },
  "language_info": {
   "codemirror_mode": {
    "name": "ipython",
    "version": 3
   },
   "file_extension": ".py",
   "mimetype": "text/x-python",
   "name": "python",
   "nbconvert_exporter": "python",
   "pygments_lexer": "ipython3",
   "version": "3.9.7"
  }
 },
 "nbformat": 4,
 "nbformat_minor": 5
}
